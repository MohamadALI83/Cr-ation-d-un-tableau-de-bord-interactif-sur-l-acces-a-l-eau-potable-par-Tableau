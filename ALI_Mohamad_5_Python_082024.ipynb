{
 "cells": [
  {
   "attachments": {
    "image.png": {
     "image/png": "[encoded data removed]"
    }
   },
   "cell_type": "markdown",
   "id": "7b4770b5",
   "metadata": {},
   "source": [
    "![image.png](attachment:image.png)"
   ]
  },
  {
   "cell_type": "code",
   "execution_count": 27,
   "id": "649ebe7e",
   "metadata": {
    "tags": []
   },
   "outputs": [],
   "source": [
    "# import librairies needed for project\n",
    "import missingno as msno\n",
    "import numpy as np\n",
    "import pandas as pd\n",
    "\n",
    "# import user-created functions\n",
    "# from functions import *\n",
    "\n",
    "# maximise dataframe display\n",
    "pd.set_option('display.max_colwidth', None)\n",
    "\n",
    "# remove scientific notation format for large numbers in dataframes\n",
    "pd.set_option('display.float_format', lambda x: '%.3f' % x)\n",
    "\n",
    "# # use company logo colour in graphs\n",
    "# col = findColor('dwfa_blue.png')\n",
    "# print(\"Logo color hex:\", col)"
   ]
  },
  {
   "cell_type": "code",
   "execution_count": 28,
   "id": "cb8537d4-8bde-4490-a71c-3734ac74ae67",
   "metadata": {
    "tags": []
   },
   "outputs": [
    {
     "name": "stdout",
     "output_type": "stream",
     "text": [
      "deprecate positional args: graphviz.backend.piping.pipe(['renderer', 'formatter', 'neato_no_op', 'quiet'])\n",
      "deprecate positional args: graphviz.backend.rendering.render(['renderer', 'formatter', 'neato_no_op', 'quiet'])\n",
      "deprecate positional args: graphviz.backend.unflattening.unflatten(['stagger', 'fanout', 'chain', 'encoding'])\n",
      "deprecate positional args: graphviz.backend.viewing.view(['quiet'])\n",
      "deprecate positional args: graphviz.quoting.quote(['is_html_string', 'is_valid_id', 'dot_keywords', 'endswith_odd_number_of_backslashes', 'escape_unescaped_quotes'])\n",
      "deprecate positional args: graphviz.quoting.a_list(['kwargs', 'attributes'])\n",
      "deprecate positional args: graphviz.quoting.attr_list(['kwargs', 'attributes'])\n",
      "deprecate positional args: graphviz.dot.Dot.clear(['keep_attrs'])\n",
      "deprecate positional args: graphviz.dot.Dot.__iter__(['subgraph'])\n",
      "deprecate positional args: graphviz.dot.Dot.node(['_attributes'])\n",
      "deprecate positional args: graphviz.dot.Dot.edge(['_attributes'])\n",
      "deprecate positional args: graphviz.dot.Dot.attr(['_attributes'])\n",
      "deprecate positional args: graphviz.dot.Dot.subgraph(['name', 'comment', 'graph_attr', 'node_attr', 'edge_attr', 'body'])\n",
      "deprecate positional args: graphviz.piping.Pipe._pipe_legacy(['renderer', 'formatter', 'neato_no_op', 'quiet'])\n",
      "deprecate positional args: graphviz.saving.Save.save(['directory'])\n",
      "deprecate positional args: graphviz.rendering.Render.render(['directory', 'view', 'cleanup', 'format', 'renderer', 'formatter', 'neato_no_op', 'quiet', 'quiet_view'])\n",
      "deprecate positional args: graphviz.rendering.Render.view(['directory', 'cleanup', 'quiet', 'quiet_view'])\n",
      "deprecate positional args: graphviz.unflattening.Unflatten.unflatten(['stagger', 'fanout', 'chain'])\n",
      "deprecate positional args: graphviz.graphs.BaseGraph.__init__(['comment', 'filename', 'directory', 'format', 'engine', 'encoding', 'graph_attr', 'node_attr', 'edge_attr', 'body', 'strict'])\n",
      "deprecate positional args: graphviz.sources.Source.from_file(['directory', 'format', 'engine', 'encoding', 'renderer', 'formatter'])\n",
      "deprecate positional args: graphviz.sources.Source.__init__(['filename', 'directory', 'format', 'engine', 'encoding'])\n",
      "deprecate positional args: graphviz.sources.Source.save(['directory'])\n"
     ]
    }
   ],
   "source": [
    "## Importing required modules\n",
    "import glob\n",
    "import random\n",
    "import scipy as sp\n",
    "import numpy as np\n",
    "import pandas as pd\n",
    "import seaborn as sns\n",
    "from time import time\n",
    "import lightgbm as lgb\n",
    "import geopandas as gpd\n",
    "import plotly.express as px\n",
    "from scipy.stats import skew\n",
    "from unidecode import unidecode\n",
    "import matplotlib.pyplot as plt\n",
    "from fuzzywuzzy import process as fwp\n",
    "import plotly.graph_objects as go\n",
    "from shapely.geometry import Polygon\n",
    "from sklearn.model_selection import KFold, cross_val_score\n",
    "from sklearn.preprocessing import StandardScaler, RobustScaler\n",
    "# from dataprep.eda import plot, plot_missing, plot_correlation, create_report\n",
    "import seaborn as sns\n",
    "import matplotlib.pyplot as plt"
   ]
  },
  {
   "cell_type": "markdown",
   "id": "815cd5a1",
   "metadata": {},
   "source": [
    "### 1 - RegionCountry"
   ]
  },
  {
   "cell_type": "code",
   "execution_count": 2,
   "id": "b3f53f83",
   "metadata": {
    "tags": []
   },
   "outputs": [
    {
     "data": {
      "text/html": [
       "<div>\n",
       "<style scoped>\n",
       "    .dataframe tbody tr th:only-of-type {\n",
       "        vertical-align: middle;\n",
       "    }\n",
       "\n",
       "    .dataframe tbody tr th {\n",
       "        vertical-align: top;\n",
       "    }\n",
       "\n",
       "    .dataframe thead th {\n",
       "        text-align: right;\n",
       "    }\n",
       "</style>\n",
       "<table border=\"1\" class=\"dataframe\">\n",
       "  <thead>\n",
       "    <tr style=\"text-align: right;\">\n",
       "      <th></th>\n",
       "      <th>REGION (DISPLAY)</th>\n",
       "      <th>COUNTRY (DISPLAY)</th>\n",
       "    </tr>\n",
       "  </thead>\n",
       "  <tbody>\n",
       "    <tr>\n",
       "      <th>count</th>\n",
       "      <td>194</td>\n",
       "      <td>194</td>\n",
       "    </tr>\n",
       "    <tr>\n",
       "      <th>unique</th>\n",
       "      <td>6</td>\n",
       "      <td>194</td>\n",
       "    </tr>\n",
       "    <tr>\n",
       "      <th>top</th>\n",
       "      <td>Europe</td>\n",
       "      <td>Albania</td>\n",
       "    </tr>\n",
       "    <tr>\n",
       "      <th>freq</th>\n",
       "      <td>53</td>\n",
       "      <td>1</td>\n",
       "    </tr>\n",
       "  </tbody>\n",
       "</table>\n",
       "</div>"
      ],
      "text/plain": [
       "       REGION (DISPLAY) COUNTRY (DISPLAY)\n",
       "count               194               194\n",
       "unique                6               194\n",
       "top              Europe           Albania\n",
       "freq                 53                 1"
      ]
     },
     "execution_count": 2,
     "metadata": {},
     "output_type": "execute_result"
    }
   ],
   "source": [
    "# import file - source : \n",
    "# countries = pd.read_csv('countries.csv', encoding='latin_1')\n",
    "RegionCountry = pd.read_csv('RESSOURCES/RegionCountry.csv',sep=\",\")\n",
    "RegionCountry.describe()"
   ]
  },
  {
   "cell_type": "code",
   "execution_count": 3,
   "id": "815c1f34",
   "metadata": {
    "tags": []
   },
   "outputs": [
    {
     "data": {
      "text/plain": [
       "<Axes: >"
      ]
     },
     "execution_count": 3,
     "metadata": {},
     "output_type": "execute_result"
    },
    {
     "data": {
      "image/png": "[encoded data removed]",
      "text/plain": [
       "<Figure size 2500x1000 with 2 Axes>"
      ]
     },
     "metadata": {},
     "output_type": "display_data"
    }
   ],
   "source": [
    "msno.matrix(RegionCountry)"
   ]
  },
  {
   "cell_type": "code",
   "execution_count": 4,
   "id": "04707a7a",
   "metadata": {
    "tags": []
   },
   "outputs": [
    {
     "name": "stdout",
     "output_type": "stream",
     "text": [
      "There are no null values in the table.\n"
     ]
    }
   ],
   "source": [
    "# count number of null values in RegionCountry dataframe\n",
    "nulls_c = RegionCountry.isna().sum().sum()\n",
    "if nulls_c == 0:\n",
    "    print(\"There are no null values in the table.\")\n",
    "else:\n",
    "    print (\"There are \", nulls_c, \"null values in the table.\")"
   ]
  },
  {
   "cell_type": "code",
   "execution_count": 5,
   "id": "d3321cc6",
   "metadata": {
    "tags": []
   },
   "outputs": [],
   "source": [
    "# rename columns\n",
    "RegionCountry.rename(columns={'REGION (DISPLAY)': 'region', 'COUNTRY (DISPLAY)':'country_name'}, inplace=True)"
   ]
  },
  {
   "cell_type": "code",
   "execution_count": 6,
   "id": "19e7f8b4",
   "metadata": {
    "tags": []
   },
   "outputs": [],
   "source": [
    "# type casting\n",
    "RegionCountry['country_name'] = RegionCountry['country_name'].astype('string')\n",
    "RegionCountry['region'] = RegionCountry['region'].astype('string')"
   ]
  },
  {
   "cell_type": "code",
   "execution_count": 7,
   "id": "a369a99e",
   "metadata": {
    "tags": []
   },
   "outputs": [
    {
     "name": "stdout",
     "output_type": "stream",
     "text": [
      "Il y a 194 pays dans la liste.\n",
      "Aucun doublon dans la table.\n"
     ]
    }
   ],
   "source": [
    "print (\"Il y a\",RegionCountry['country_name'].nunique(), \"pays dans la liste.\")\n",
    "if (RegionCountry.loc[RegionCountry.duplicated() == True].shape[0]) != 0:\n",
    "    print(\"Doublons dans la table.\")\n",
    "else:\n",
    "    print (\"Aucun doublon dans la table.\")"
   ]
  },
  {
   "cell_type": "code",
   "execution_count": 10,
   "id": "f93110ed",
   "metadata": {
    "tags": []
   },
   "outputs": [],
   "source": [
    "# reorder columns to set primary key as first column\n",
    "RegionCountry_final = RegionCountry[['country_name','region']].copy()"
   ]
  },
  {
   "cell_type": "code",
   "execution_count": 18,
   "id": "cd8fad0a",
   "metadata": {
    "tags": []
   },
   "outputs": [],
   "source": [
    "# export df to csv file\n",
    "RegionCountry_final.to_csv(\"RESULTATS/RegionCountry_final.csv\", index=False,encoding='utf-8-sig')"
   ]
  },
  {
   "cell_type": "markdown",
   "id": "52e1bf62",
   "metadata": {},
   "source": [
    "## 2 - PoliticalStability"
   ]
  },
  {
   "cell_type": "code",
   "execution_count": 12,
   "id": "f6d9de7b",
   "metadata": {
    "tags": []
   },
   "outputs": [
    {
     "data": {
      "text/html": [
       "<div>\n",
       "<style scoped>\n",
       "    .dataframe tbody tr th:only-of-type {\n",
       "        vertical-align: middle;\n",
       "    }\n",
       "\n",
       "    .dataframe tbody tr th {\n",
       "        vertical-align: top;\n",
       "    }\n",
       "\n",
       "    .dataframe thead th {\n",
       "        text-align: right;\n",
       "    }\n",
       "</style>\n",
       "<table border=\"1\" class=\"dataframe\">\n",
       "  <thead>\n",
       "    <tr style=\"text-align: right;\">\n",
       "      <th></th>\n",
       "      <th>Year</th>\n",
       "      <th>Political_Stability</th>\n",
       "    </tr>\n",
       "  </thead>\n",
       "  <tbody>\n",
       "    <tr>\n",
       "      <th>count</th>\n",
       "      <td>3526.000000</td>\n",
       "      <td>3526.000000</td>\n",
       "    </tr>\n",
       "    <tr>\n",
       "      <th>mean</th>\n",
       "      <td>2009.521838</td>\n",
       "      <td>-0.051044</td>\n",
       "    </tr>\n",
       "    <tr>\n",
       "      <th>std</th>\n",
       "      <td>5.255833</td>\n",
       "      <td>0.996039</td>\n",
       "    </tr>\n",
       "    <tr>\n",
       "      <th>min</th>\n",
       "      <td>2000.000000</td>\n",
       "      <td>-3.310000</td>\n",
       "    </tr>\n",
       "    <tr>\n",
       "      <th>25%</th>\n",
       "      <td>2005.000000</td>\n",
       "      <td>-0.710000</td>\n",
       "    </tr>\n",
       "    <tr>\n",
       "      <th>50%</th>\n",
       "      <td>2010.000000</td>\n",
       "      <td>0.050000</td>\n",
       "    </tr>\n",
       "    <tr>\n",
       "      <th>75%</th>\n",
       "      <td>2014.000000</td>\n",
       "      <td>0.797500</td>\n",
       "    </tr>\n",
       "    <tr>\n",
       "      <th>max</th>\n",
       "      <td>2018.000000</td>\n",
       "      <td>1.970000</td>\n",
       "    </tr>\n",
       "  </tbody>\n",
       "</table>\n",
       "</div>"
      ],
      "text/plain": [
       "              Year  Political_Stability\n",
       "count  3526.000000          3526.000000\n",
       "mean   2009.521838            -0.051044\n",
       "std       5.255833             0.996039\n",
       "min    2000.000000            -3.310000\n",
       "25%    2005.000000            -0.710000\n",
       "50%    2010.000000             0.050000\n",
       "75%    2014.000000             0.797500\n",
       "max    2018.000000             1.970000"
      ]
     },
     "execution_count": 12,
     "metadata": {},
     "output_type": "execute_result"
    }
   ],
   "source": [
    "# import file - source : \n",
    "PoliticalStability = pd.read_csv('RESSOURCES/PoliticalStability.csv',sep=\",\")\n",
    "PoliticalStability.describe()"
   ]
  },
  {
   "cell_type": "code",
   "execution_count": 13,
   "id": "51c60cf6",
   "metadata": {
    "tags": []
   },
   "outputs": [
    {
     "data": {
      "text/plain": [
       "<Axes: >"
      ]
     },
     "execution_count": 13,
     "metadata": {},
     "output_type": "execute_result"
    },
    {
     "data": {
      "image/png": "[encoded data removed]",
      "text/plain": [
       "<Figure size 2500x1000 with 2 Axes>"
      ]
     },
     "metadata": {},
     "output_type": "display_data"
    }
   ],
   "source": [
    "msno.matrix(PoliticalStability)"
   ]
  },
  {
   "cell_type": "code",
   "execution_count": 14,
   "id": "380be499",
   "metadata": {
    "tags": []
   },
   "outputs": [
    {
     "name": "stdout",
     "output_type": "stream",
     "text": [
      "There are no null values in the table.\n"
     ]
    }
   ],
   "source": [
    "# count number of null values in countries dataframe\n",
    "nulls_ps = PoliticalStability.isna().sum().sum()\n",
    "if nulls_ps == 0:\n",
    "    print(\"There are no null values in the table.\")\n",
    "else:\n",
    "    print (\"There are \", nulls_ps, \"null values in the table.\")"
   ]
  },
  {
   "cell_type": "code",
   "execution_count": 15,
   "id": "01076b4e",
   "metadata": {
    "tags": []
   },
   "outputs": [],
   "source": [
    "# rename columns\n",
    "PoliticalStability.rename(columns={'Country': 'ps_country_name', 'Year':'ps_year', 'Political_Stability':'political_stability'}, inplace=True)"
   ]
  },
  {
   "cell_type": "code",
   "execution_count": 16,
   "id": "a8b943c5",
   "metadata": {
    "tags": []
   },
   "outputs": [],
   "source": [
    "# type casting\n",
    "PoliticalStability['ps_country_name'] = PoliticalStability['ps_country_name'].astype('string')\n",
    "PoliticalStability['ps_year'] = PoliticalStability['ps_year'].astype('int')\n",
    "PoliticalStability['political_stability'] = PoliticalStability['political_stability'].astype('float')"
   ]
  },
  {
   "cell_type": "code",
   "execution_count": 17,
   "id": "5f89f805",
   "metadata": {
    "tags": []
   },
   "outputs": [
    {
     "name": "stdout",
     "output_type": "stream",
     "text": [
      "Il y a 200 pays dans la liste.\n",
      "Aucun doublon dans la table.\n"
     ]
    }
   ],
   "source": [
    "print (\"Il y a\",PoliticalStability['ps_country_name'].nunique(), \"pays dans la liste.\")\n",
    "if (PoliticalStability.loc[PoliticalStability.duplicated() == True].shape[0]) != 0:\n",
    "    print(\"Doublons dans la table.\")\n",
    "else:\n",
    "    print (\"Aucun doublon dans la table.\")"
   ]
  },
  {
   "cell_type": "code",
   "execution_count": 41,
   "id": "8141cd5d-2a03-4281-a242-fb802b80791a",
   "metadata": {
    "tags": []
   },
   "outputs": [],
   "source": [
    "import pandas as pd\n",
    "\n",
    "def find_missing_countries(stability_df, reference_df, stability_column, reference_column):\n",
    "    \"\"\"\n",
    "    Trouve les pays ayant un indice dans le dataframe stability_df mais absents dans le dataframe reference_df.\n",
    "    \n",
    "    Parameters:\n",
    "    - stability_df (pd.DataFrame): DataFrame contenant les données de stabilité politique.\n",
    "    - reference_df (pd.DataFrame): DataFrame contenant les données de référence des pays.\n",
    "    - stability_column (str): Nom de la colonne dans stability_df contenant les noms des pays.\n",
    "    - reference_column (str): Nom de la colonne dans reference_df contenant les noms des pays.\n",
    "    \n",
    "    Returns:\n",
    "    - list: Liste des pays présents dans stability_df mais absents dans reference_df.\n",
    "    \"\"\"\n",
    "    # Liste des pays dans chaque DataFrame\n",
    "    stability_countries = stability_df[stability_column].unique().tolist()\n",
    "    reference_countries = reference_df[reference_column].unique().tolist()\n",
    "\n",
    "    # Pays présents dans stability_df mais absents dans reference_df\n",
    "    missing_countries = [country for country in stability_countries if country not in reference_countries]\n",
    "    \n",
    "    return missing_countries"
   ]
  },
  {
   "cell_type": "code",
   "execution_count": 42,
   "id": "e2d656a4-c2d2-4e28-9e91-9e5d5c93a67a",
   "metadata": {
    "tags": []
   },
   "outputs": [
    {
     "name": "stdout",
     "output_type": "stream",
     "text": [
      "Pays ayant un indice de stabilité politique mais absents du référentiel des pays:\n",
      "['American Samoa', 'Bermuda', 'China, Hong Kong SAR', 'China, Macao SAR', 'China, mainland', 'China, Taiwan Province of', 'Greenland', 'North Macedonia', 'Palestine', 'Puerto Rico']\n"
     ]
    }
   ],
   "source": [
    "# Exemple d'utilisation :\n",
    "# Supposons que PoliticalStability et RegionCountry soient deux DataFrames pandas que vous avez déjà chargés\n",
    "\n",
    "missing_countries = find_missing_countries(PoliticalStability, RegionCountry, 'ps_country_name', 'country_name')\n",
    "print(\"Pays ayant un indice de stabilité politique mais absents du référentiel des pays:\")\n",
    "print(missing_countries)"
   ]
  },
  {
   "cell_type": "code",
   "execution_count": 44,
   "id": "c1727802-8bec-41e1-be9b-2ed703f4dc5c",
   "metadata": {
    "tags": []
   },
   "outputs": [
    {
     "name": "stdout",
     "output_type": "stream",
     "text": [
      "Pays du referentiel n'ayant pas d'indice de stabilite politique:\n",
      "['China', 'Monaco', 'Republic of North Macedonia', 'San Marino']\n"
     ]
    }
   ],
   "source": [
    "# Exemple d'utilisation :\n",
    "# Supposons que PoliticalStability et RegionCountry soient deux DataFrames pandas que vous avez déjà chargés\n",
    "\n",
    "missing_countries = find_missing_countries(RegionCountry, PoliticalStability, 'country_name','ps_country_name')\n",
    "print(\"Pays du referentiel n'ayant pas d'indice de stabilite politique:\")\n",
    "print(missing_countries)"
   ]
  },
  {
   "cell_type": "code",
   "execution_count": 45,
   "id": "21d50ca5",
   "metadata": {
    "tags": []
   },
   "outputs": [],
   "source": [
    "# replace China, mainland with its correct name in countries list\n",
    "PoliticalStability.loc[(PoliticalStability['ps_country_name'] == 'China, mainland'), 'ps_country_name'] = 'China'"
   ]
  },
  {
   "cell_type": "code",
   "execution_count": 46,
   "id": "d0adf618-2a47-4b72-b17d-4055d867fad2",
   "metadata": {
    "tags": []
   },
   "outputs": [
    {
     "name": "stdout",
     "output_type": "stream",
     "text": [
      "Pays du referentiel n'ayant pas d'indice de stabilite politique:\n",
      "['Monaco', 'Republic of North Macedonia', 'San Marino']\n"
     ]
    }
   ],
   "source": [
    "# Exemple d'utilisation :\n",
    "# Supposons que PoliticalStability et RegionCountry soient deux DataFrames pandas que vous avez déjà chargés\n",
    "\n",
    "missing_countries = find_missing_countries(RegionCountry, PoliticalStability, 'country_name','ps_country_name')\n",
    "print(\"Pays du referentiel n'ayant pas d'indice de stabilite politique:\")\n",
    "print(missing_countries)"
   ]
  },
  {
   "cell_type": "code",
   "execution_count": 48,
   "id": "01994082-bda8-4a9e-854d-b05ffbb45d6d",
   "metadata": {
    "tags": []
   },
   "outputs": [
    {
     "name": "stdout",
     "output_type": "stream",
     "text": [
      "Pays ayant un indice de stabilité politique mais absents du référentiel des pays:\n",
      "['American Samoa', 'Bermuda', 'China, Hong Kong SAR', 'China, Macao SAR', 'China, Taiwan Province of', 'Greenland', 'North Macedonia', 'Palestine', 'Puerto Rico']\n"
     ]
    }
   ],
   "source": [
    "# Exemple d'utilisation :\n",
    "# Supposons que PoliticalStability et RegionCountry soient deux DataFrames pandas que vous avez déjà chargés\n",
    "\n",
    "missing_countries = find_missing_countries(PoliticalStability, RegionCountry, 'ps_country_name', 'country_name')\n",
    "countries_out = missing_countries\n",
    "print(\"Pays ayant un indice de stabilité politique mais absents du référentiel des pays:\")\n",
    "print(countries_out)"
   ]
  },
  {
   "cell_type": "code",
   "execution_count": 49,
   "id": "b49a83f3",
   "metadata": {
    "tags": []
   },
   "outputs": [],
   "source": [
    "# remove countries for which political stability index is missing\n",
    "PoliticalStability_trim = PoliticalStability.loc[(PoliticalStability['ps_country_name'].isin(countries_out) == False)].copy()"
   ]
  },
  {
   "cell_type": "code",
   "execution_count": 52,
   "id": "98879320",
   "metadata": {
    "tags": []
   },
   "outputs": [],
   "source": [
    "# reorder columns to set primary key as first column\n",
    "PoliticalStability_final = PoliticalStability_trim[['ps_country_name', 'ps_year','political_stability']].copy()"
   ]
  },
  {
   "cell_type": "code",
   "execution_count": 54,
   "id": "71a96950-8120-4939-919c-2e2c635f88ec",
   "metadata": {
    "tags": []
   },
   "outputs": [],
   "source": [
    "PoliticalStability_final.to_csv(\"RESULTATS/PoliticalStability_final.csv\", index=False,encoding='utf-8-sig')"
   ]
  },
  {
   "cell_type": "markdown",
   "id": "8538ef7b",
   "metadata": {},
   "source": [
    "## 3 - Population"
   ]
  },
  {
   "cell_type": "code",
   "execution_count": 61,
   "id": "62e9f2cc",
   "metadata": {
    "tags": []
   },
   "outputs": [
    {
     "data": {
      "text/html": [
       "<div>\n",
       "<style scoped>\n",
       "    .dataframe tbody tr th:only-of-type {\n",
       "        vertical-align: middle;\n",
       "    }\n",
       "\n",
       "    .dataframe tbody tr th {\n",
       "        vertical-align: top;\n",
       "    }\n",
       "\n",
       "    .dataframe thead th {\n",
       "        text-align: right;\n",
       "    }\n",
       "</style>\n",
       "<table border=\"1\" class=\"dataframe\">\n",
       "  <thead>\n",
       "    <tr style=\"text-align: right;\">\n",
       "      <th></th>\n",
       "      <th>Year</th>\n",
       "      <th>Population</th>\n",
       "    </tr>\n",
       "  </thead>\n",
       "  <tbody>\n",
       "    <tr>\n",
       "      <th>count</th>\n",
       "      <td>20914.000</td>\n",
       "      <td>20914.000</td>\n",
       "    </tr>\n",
       "    <tr>\n",
       "      <th>mean</th>\n",
       "      <td>2009.047</td>\n",
       "      <td>22531.641</td>\n",
       "    </tr>\n",
       "    <tr>\n",
       "      <th>std</th>\n",
       "      <td>5.479</td>\n",
       "      <td>100016.851</td>\n",
       "    </tr>\n",
       "    <tr>\n",
       "      <th>min</th>\n",
       "      <td>2000.000</td>\n",
       "      <td>0.000</td>\n",
       "    </tr>\n",
       "    <tr>\n",
       "      <th>25%</th>\n",
       "      <td>2004.000</td>\n",
       "      <td>348.346</td>\n",
       "    </tr>\n",
       "    <tr>\n",
       "      <th>50%</th>\n",
       "      <td>2009.000</td>\n",
       "      <td>3016.337</td>\n",
       "    </tr>\n",
       "    <tr>\n",
       "      <th>75%</th>\n",
       "      <td>2014.000</td>\n",
       "      <td>11150.426</td>\n",
       "    </tr>\n",
       "    <tr>\n",
       "      <th>max</th>\n",
       "      <td>2018.000</td>\n",
       "      <td>1459377.612</td>\n",
       "    </tr>\n",
       "  </tbody>\n",
       "</table>\n",
       "</div>"
      ],
      "text/plain": [
       "           Year  Population\n",
       "count 20914.000   20914.000\n",
       "mean   2009.047   22531.641\n",
       "std       5.479  100016.851\n",
       "min    2000.000       0.000\n",
       "25%    2004.000     348.346\n",
       "50%    2009.000    3016.337\n",
       "75%    2014.000   11150.426\n",
       "max    2018.000 1459377.612"
      ]
     },
     "execution_count": 61,
     "metadata": {},
     "output_type": "execute_result"
    }
   ],
   "source": [
    "# import file - source : \n",
    "Population = pd.read_csv('RESSOURCES/Population.csv',sep=\",\")\n",
    "Population.describe()"
   ]
  },
  {
   "cell_type": "code",
   "execution_count": 62,
   "id": "5ed58b00-8fa5-4a94-8533-7500a6709094",
   "metadata": {
    "tags": []
   },
   "outputs": [],
   "source": [
    "# change units\n",
    "Population['Population_Million'] = Population['Population'] * 1000"
   ]
  },
  {
   "cell_type": "code",
   "execution_count": 63,
   "id": "095c3dcc",
   "metadata": {
    "tags": []
   },
   "outputs": [
    {
     "data": {
      "text/plain": [
       "<Axes: >"
      ]
     },
     "execution_count": 63,
     "metadata": {},
     "output_type": "execute_result"
    },
    {
     "data": {
      "image/png": "[encoded data removed]",
      "text/plain": [
       "<Figure size 2500x1000 with 2 Axes>"
      ]
     },
     "metadata": {},
     "output_type": "display_data"
    }
   ],
   "source": [
    "msno.matrix(Population)"
   ]
  },
  {
   "cell_type": "code",
   "execution_count": 64,
   "id": "9ab9a866",
   "metadata": {
    "tags": []
   },
   "outputs": [
    {
     "name": "stdout",
     "output_type": "stream",
     "text": [
      "There are no null values in the table.\n"
     ]
    }
   ],
   "source": [
    "# count number of null values in countries dataframe\n",
    "nulls_Population = Population.isna().sum().sum()\n",
    "if nulls_Population == 0:\n",
    "    print(\"There are no null values in the table.\")\n",
    "else:\n",
    "    print (\"There are \", nulls_Population, \"null values in the table.\")"
   ]
  },
  {
   "cell_type": "code",
   "execution_count": 65,
   "id": "9d755cd9",
   "metadata": {
    "tags": []
   },
   "outputs": [
    {
     "data": {
      "text/html": [
       "<div>\n",
       "<style scoped>\n",
       "    .dataframe tbody tr th:only-of-type {\n",
       "        vertical-align: middle;\n",
       "    }\n",
       "\n",
       "    .dataframe tbody tr th {\n",
       "        vertical-align: top;\n",
       "    }\n",
       "\n",
       "    .dataframe thead th {\n",
       "        text-align: right;\n",
       "    }\n",
       "</style>\n",
       "<table border=\"1\" class=\"dataframe\">\n",
       "  <thead>\n",
       "    <tr style=\"text-align: right;\">\n",
       "      <th>Granularity</th>\n",
       "      <th>Country</th>\n",
       "      <th>Year</th>\n",
       "      <th>Female</th>\n",
       "      <th>Male</th>\n",
       "      <th>Rural</th>\n",
       "      <th>Total</th>\n",
       "      <th>Urban</th>\n",
       "    </tr>\n",
       "  </thead>\n",
       "  <tbody>\n",
       "    <tr>\n",
       "      <th>0</th>\n",
       "      <td>Afghanistan</td>\n",
       "      <td>2000</td>\n",
       "      <td>10090449.000</td>\n",
       "      <td>10689508.000</td>\n",
       "      <td>15657474.000</td>\n",
       "      <td>20779953.000</td>\n",
       "      <td>4436282.000</td>\n",
       "    </tr>\n",
       "    <tr>\n",
       "      <th>1</th>\n",
       "      <td>Afghanistan</td>\n",
       "      <td>2001</td>\n",
       "      <td>10489238.000</td>\n",
       "      <td>11117754.000</td>\n",
       "      <td>16318324.000</td>\n",
       "      <td>21606988.000</td>\n",
       "      <td>4648139.000</td>\n",
       "    </tr>\n",
       "    <tr>\n",
       "      <th>2</th>\n",
       "      <td>Afghanistan</td>\n",
       "      <td>2002</td>\n",
       "      <td>10958668.000</td>\n",
       "      <td>11642106.000</td>\n",
       "      <td>17086910.000</td>\n",
       "      <td>22600770.000</td>\n",
       "      <td>4893013.000</td>\n",
       "    </tr>\n",
       "    <tr>\n",
       "      <th>3</th>\n",
       "      <td>Afghanistan</td>\n",
       "      <td>2003</td>\n",
       "      <td>11466237.000</td>\n",
       "      <td>12214634.000</td>\n",
       "      <td>17909063.000</td>\n",
       "      <td>23680871.000</td>\n",
       "      <td>5155788.000</td>\n",
       "    </tr>\n",
       "    <tr>\n",
       "      <th>4</th>\n",
       "      <td>Afghanistan</td>\n",
       "      <td>2004</td>\n",
       "      <td>11962963.000</td>\n",
       "      <td>12763726.000</td>\n",
       "      <td>18692107.000</td>\n",
       "      <td>24726684.000</td>\n",
       "      <td>5426872.000</td>\n",
       "    </tr>\n",
       "  </tbody>\n",
       "</table>\n",
       "</div>"
      ],
      "text/plain": [
       "Granularity      Country  Year       Female         Male        Rural  \\\n",
       "0            Afghanistan  2000 10090449.000 10689508.000 15657474.000   \n",
       "1            Afghanistan  2001 10489238.000 11117754.000 16318324.000   \n",
       "2            Afghanistan  2002 10958668.000 11642106.000 17086910.000   \n",
       "3            Afghanistan  2003 11466237.000 12214634.000 17909063.000   \n",
       "4            Afghanistan  2004 11962963.000 12763726.000 18692107.000   \n",
       "\n",
       "Granularity        Total       Urban  \n",
       "0           20779953.000 4436282.000  \n",
       "1           21606988.000 4648139.000  \n",
       "2           22600770.000 4893013.000  \n",
       "3           23680871.000 5155788.000  \n",
       "4           24726684.000 5426872.000  "
      ]
     },
     "execution_count": 65,
     "metadata": {},
     "output_type": "execute_result"
    }
   ],
   "source": [
    "# un-pivot data\n",
    "Population_trim = Population.pivot(index=['Country','Year'], columns='Granularity', values='Population_Million').reset_index()\n",
    "Population_trim.head()"
   ]
  },
  {
   "cell_type": "code",
   "execution_count": 68,
   "id": "c16454b1",
   "metadata": {
    "tags": []
   },
   "outputs": [],
   "source": [
    "# change units\n",
    "Population_trim['female_population'] = Population_trim['Female']\n",
    "Population_trim['male_population'] = Population_trim['Male']\n",
    "Population_trim['rural_population'] = Population_trim['Rural']\n",
    "Population_trim['urban_population'] = Population_trim['Urban']\n",
    "Population_trim.rename(columns={'Country': 'p_country_name', 'Year':'p_year'}, inplace=True)"
   ]
  },
  {
   "cell_type": "code",
   "execution_count": 70,
   "id": "fc893867",
   "metadata": {
    "tags": []
   },
   "outputs": [],
   "source": [
    "# reorder columns\n",
    "Population = Population_trim[['p_country_name', 'p_year', 'female_population','male_population','rural_population','urban_population']].copy()"
   ]
  },
  {
   "cell_type": "code",
   "execution_count": 71,
   "id": "5eb95d9b-1282-488c-a0d2-0ca174e54d86",
   "metadata": {
    "tags": []
   },
   "outputs": [
    {
     "name": "stdout",
     "output_type": "stream",
     "text": [
      "Pays ayant des donnees de population mais absents du referentiel pays:\n",
      "['American Samoa', 'Anguilla', 'Aruba', 'Bermuda', 'Bonaire, Sint Eustatius and Saba', 'British Virgin Islands', 'Cayman Islands', 'Channel Islands', 'China, Hong Kong SAR', 'China, Macao SAR', 'China, Taiwan Province of', 'China, mainland', 'Curaçao', 'Falkland Islands (Malvinas)', 'Faroe Islands', 'French Guyana', 'French Polynesia', 'Gibraltar', 'Greenland', 'Guadeloupe', 'Guam', 'Holy See', 'Isle of Man', 'Liechtenstein', 'Martinique', 'Mayotte', 'Montserrat', 'Netherlands Antilles (former)', 'New Caledonia', 'North Macedonia', 'Northern Mariana Islands', 'Palestine', 'Puerto Rico', 'Réunion', 'Saint Barthélemy', 'Saint Helena, Ascension and Tristan da Cunha', 'Saint Pierre and Miquelon', 'Saint-Martin (French part)', 'Serbia and Montenegro', 'Sint Maarten  (Dutch part)', 'Sudan (former)', 'Tokelau', 'Turks and Caicos Islands', 'United States Virgin Islands', 'Wallis and Futuna Islands', 'Western Sahara']\n"
     ]
    }
   ],
   "source": [
    "missing_countries = find_missing_countries(Population, RegionCountry, 'p_country_name', 'country_name')\n",
    "countries_out_2 = missing_countries\n",
    "print(\"Pays ayant des donnees de population mais absents du referentiel pays:\")\n",
    "print(countries_out_2)"
   ]
  },
  {
   "cell_type": "code",
   "execution_count": 72,
   "id": "8572b179-3aaf-420f-afe4-87e8dad5839a",
   "metadata": {
    "tags": []
   },
   "outputs": [
    {
     "name": "stdout",
     "output_type": "stream",
     "text": [
      "Pays du referentiel n'ayant pas de donnees de population:\n",
      "['Republic of North Macedonia']\n"
     ]
    }
   ],
   "source": [
    "missing_countries = find_missing_countries(RegionCountry, Population, 'country_name', 'p_country_name')\n",
    "countries_out_3 = missing_countries\n",
    "print(\"Pays du referentiel n'ayant pas de donnees de population:\")\n",
    "print(countries_out_3)"
   ]
  },
  {
   "cell_type": "code",
   "execution_count": 74,
   "id": "76edf34c",
   "metadata": {
    "tags": []
   },
   "outputs": [
    {
     "name": "stdout",
     "output_type": "stream",
     "text": [
      "['American Samoa' 'Andorra' 'Anguilla' 'Bermuda'\n",
      " 'Bonaire, Sint Eustatius and Saba' 'British Virgin Islands'\n",
      " 'Cayman Islands' 'Cook Islands' 'Dominica' 'Falkland Islands (Malvinas)'\n",
      " 'Faroe Islands' 'Gibraltar' 'Greenland' 'Holy See' 'Isle of Man'\n",
      " 'Liechtenstein' 'Marshall Islands' 'Monaco' 'Montserrat' 'Nauru' 'Niue'\n",
      " 'Northern Mariana Islands' 'Palau' 'Saint Barthélemy'\n",
      " 'Saint Helena, Ascension and Tristan da Cunha' 'Saint Kitts and Nevis'\n",
      " 'Saint Pierre and Miquelon' 'Saint-Martin (French part)' 'San Marino'\n",
      " 'Sint Maarten  (Dutch part)' 'Tokelau' 'Turks and Caicos Islands'\n",
      " 'Tuvalu' 'Wallis and Futuna Islands']\n"
     ]
    }
   ],
   "source": [
    "nulls_pop = Population[Population.isnull().any(axis=1)]\n",
    "countries_out_4 = nulls_pop['p_country_name'].unique()\n",
    "print(countries_out_4)"
   ]
  },
  {
   "cell_type": "code",
   "execution_count": 76,
   "id": "207911c2",
   "metadata": {
    "tags": []
   },
   "outputs": [],
   "source": [
    "# remove countries which have missing data or are overseas territories of another country\n",
    "Population_final = Population.loc[(Population['p_country_name'].isin(countries_out_2) == False)\n",
    "                                 & (Population['p_country_name'].isin(countries_out_4) == False)].copy()"
   ]
  },
  {
   "cell_type": "code",
   "execution_count": 80,
   "id": "39f38e09-f329-4e4d-ae1d-8ec1138e1ba5",
   "metadata": {
    "tags": []
   },
   "outputs": [
    {
     "data": {
      "text/plain": [
       "['Andorra',\n",
       " 'Monaco',\n",
       " 'Niue',\n",
       " 'Republic of North Macedonia',\n",
       " 'San Marino',\n",
       " 'Tuvalu',\n",
       " 'Cook Islands',\n",
       " 'Dominica',\n",
       " 'Marshall Islands',\n",
       " 'Nauru',\n",
       " 'Palau',\n",
       " 'Saint Kitts and Nevis']"
      ]
     },
     "execution_count": 80,
     "metadata": {},
     "output_type": "execute_result"
    }
   ],
   "source": [
    "missing_countries = find_missing_countries(RegionCountry, Population_final, 'country_name', 'p_country_name')\n",
    "missing_countries"
   ]
  },
  {
   "cell_type": "code",
   "execution_count": 81,
   "id": "4d3782bc-8b62-4685-9fe6-4e213375ce27",
   "metadata": {
    "tags": []
   },
   "outputs": [
    {
     "data": {
      "text/plain": [
       "[]"
      ]
     },
     "execution_count": 81,
     "metadata": {},
     "output_type": "execute_result"
    }
   ],
   "source": [
    "missing_countries = find_missing_countries( Population_final,RegionCountry, 'p_country_name' ,'country_name')\n",
    "missing_countries"
   ]
  },
  {
   "cell_type": "code",
   "execution_count": 82,
   "id": "7bb72c58",
   "metadata": {
    "tags": []
   },
   "outputs": [],
   "source": [
    "# type casting\n",
    "Population_final['p_country_name'] = Population_final['p_country_name'].astype('string')\n",
    "Population_final['p_year'] = Population_final['p_year'].astype('int')\n",
    "Population_final['female_population'] = Population_final['female_population'].astype('int')\n",
    "Population_final['male_population'] = Population_final['male_population'].astype('int')\n",
    "Population_final['rural_population'] = Population_final['rural_population'].astype('int')\n",
    "Population_final['urban_population'] = Population_final['urban_population'].astype('int')"
   ]
  },
  {
   "cell_type": "code",
   "execution_count": 83,
   "id": "e3ee4b94",
   "metadata": {
    "tags": []
   },
   "outputs": [],
   "source": [
    "# export df to csv file\n",
    "Population_final.to_csv(\"RESULTATS/Population_final.csv\", index=False,encoding='utf-8-sig')"
   ]
  },
  {
   "cell_type": "markdown",
   "id": "4520a734",
   "metadata": {},
   "source": [
    "## 4 - BasicAndSafelyManagedDrinkingWaterServices"
   ]
  },
  {
   "cell_type": "code",
   "execution_count": 121,
   "id": "a648b006",
   "metadata": {
    "tags": []
   },
   "outputs": [
    {
     "data": {
      "text/html": [
       "<div>\n",
       "<style scoped>\n",
       "    .dataframe tbody tr th:only-of-type {\n",
       "        vertical-align: middle;\n",
       "    }\n",
       "\n",
       "    .dataframe tbody tr th {\n",
       "        vertical-align: top;\n",
       "    }\n",
       "\n",
       "    .dataframe thead th {\n",
       "        text-align: right;\n",
       "    }\n",
       "</style>\n",
       "<table border=\"1\" class=\"dataframe\">\n",
       "  <thead>\n",
       "    <tr style=\"text-align: right;\">\n",
       "      <th></th>\n",
       "      <th>Year</th>\n",
       "      <th>Population using at least basic drinking-water services (%)</th>\n",
       "      <th>Population using safely managed drinking-water services (%)</th>\n",
       "    </tr>\n",
       "  </thead>\n",
       "  <tbody>\n",
       "    <tr>\n",
       "      <th>count</th>\n",
       "      <td>10476.000</td>\n",
       "      <td>9415.000</td>\n",
       "      <td>3286.000</td>\n",
       "    </tr>\n",
       "    <tr>\n",
       "      <th>mean</th>\n",
       "      <td>2008.500</td>\n",
       "      <td>83.962</td>\n",
       "      <td>66.071</td>\n",
       "    </tr>\n",
       "    <tr>\n",
       "      <th>std</th>\n",
       "      <td>5.188</td>\n",
       "      <td>19.968</td>\n",
       "      <td>30.384</td>\n",
       "    </tr>\n",
       "    <tr>\n",
       "      <th>min</th>\n",
       "      <td>2000.000</td>\n",
       "      <td>4.083</td>\n",
       "      <td>0.000</td>\n",
       "    </tr>\n",
       "    <tr>\n",
       "      <th>25%</th>\n",
       "      <td>2004.000</td>\n",
       "      <td>75.928</td>\n",
       "      <td>41.896</td>\n",
       "    </tr>\n",
       "    <tr>\n",
       "      <th>50%</th>\n",
       "      <td>2008.500</td>\n",
       "      <td>93.115</td>\n",
       "      <td>73.967</td>\n",
       "    </tr>\n",
       "    <tr>\n",
       "      <th>75%</th>\n",
       "      <td>2013.000</td>\n",
       "      <td>98.954</td>\n",
       "      <td>94.777</td>\n",
       "    </tr>\n",
       "    <tr>\n",
       "      <th>max</th>\n",
       "      <td>2017.000</td>\n",
       "      <td>100.000</td>\n",
       "      <td>100.000</td>\n",
       "    </tr>\n",
       "  </tbody>\n",
       "</table>\n",
       "</div>"
      ],
      "text/plain": [
       "           Year  Population using at least basic drinking-water services (%)  \\\n",
       "count 10476.000                                                     9415.000   \n",
       "mean   2008.500                                                       83.962   \n",
       "std       5.188                                                       19.968   \n",
       "min    2000.000                                                        4.083   \n",
       "25%    2004.000                                                       75.928   \n",
       "50%    2008.500                                                       93.115   \n",
       "75%    2013.000                                                       98.954   \n",
       "max    2017.000                                                      100.000   \n",
       "\n",
       "       Population using safely managed drinking-water services (%)  \n",
       "count                                                     3286.000  \n",
       "mean                                                        66.071  \n",
       "std                                                         30.384  \n",
       "min                                                          0.000  \n",
       "25%                                                         41.896  \n",
       "50%                                                         73.967  \n",
       "75%                                                         94.777  \n",
       "max                                                        100.000  "
      ]
     },
     "execution_count": 121,
     "metadata": {},
     "output_type": "execute_result"
    }
   ],
   "source": [
    "# import file - source : \n",
    "BasicAndSafelyManagedDrinkingWaterServices = pd.read_csv('RESSOURCES/BasicAndSafelyManagedDrinkingWaterServices.csv',sep=\",\")\n",
    "BasicAndSafelyManagedDrinkingWaterServices.describe()"
   ]
  },
  {
   "cell_type": "code",
   "execution_count": 122,
   "id": "14095146",
   "metadata": {
    "tags": []
   },
   "outputs": [
    {
     "data": {
      "text/plain": [
       "<Axes: >"
      ]
     },
     "execution_count": 122,
     "metadata": {},
     "output_type": "execute_result"
    },
    {
     "data": {
      "image/png": "[encoded data removed]",
      "text/plain": [
       "<Figure size 2500x1000 with 2 Axes>"
      ]
     },
     "metadata": {},
     "output_type": "display_data"
    }
   ],
   "source": [
    "msno.matrix(BasicAndSafelyManagedDrinkingWaterServices)"
   ]
  },
  {
   "cell_type": "code",
   "execution_count": 123,
   "id": "009ddc20",
   "metadata": {
    "tags": []
   },
   "outputs": [
    {
     "name": "stdout",
     "output_type": "stream",
     "text": [
      "There are  8251 null values in the table.\n"
     ]
    }
   ],
   "source": [
    "# count number of null values in countries dataframe\n",
    "nulls_wa = BasicAndSafelyManagedDrinkingWaterServices.isna().sum().sum()\n",
    "if nulls_wa == 0:\n",
    "    print(\"There are no null values in the table.\")\n",
    "else:\n",
    "    print (\"There are \", nulls_wa, \"null values in the table.\")"
   ]
  },
  {
   "cell_type": "code",
   "execution_count": 124,
   "id": "7ace52b1",
   "metadata": {
    "tags": []
   },
   "outputs": [
    {
     "data": {
      "text/html": [
       "<div>\n",
       "<style scoped>\n",
       "    .dataframe tbody tr th:only-of-type {\n",
       "        vertical-align: middle;\n",
       "    }\n",
       "\n",
       "    .dataframe tbody tr th {\n",
       "        vertical-align: top;\n",
       "    }\n",
       "\n",
       "    .dataframe thead th {\n",
       "        text-align: right;\n",
       "    }\n",
       "</style>\n",
       "<table border=\"1\" class=\"dataframe\">\n",
       "  <thead>\n",
       "    <tr style=\"text-align: right;\">\n",
       "      <th>Granularity</th>\n",
       "      <th>Country</th>\n",
       "      <th>Year</th>\n",
       "      <th>Rural</th>\n",
       "      <th>Total</th>\n",
       "      <th>Urban</th>\n",
       "    </tr>\n",
       "  </thead>\n",
       "  <tbody>\n",
       "    <tr>\n",
       "      <th>0</th>\n",
       "      <td>Afghanistan</td>\n",
       "      <td>2000</td>\n",
       "      <td>21.619</td>\n",
       "      <td>27.772</td>\n",
       "      <td>49.487</td>\n",
       "    </tr>\n",
       "    <tr>\n",
       "      <th>1</th>\n",
       "      <td>Afghanistan</td>\n",
       "      <td>2001</td>\n",
       "      <td>21.619</td>\n",
       "      <td>27.797</td>\n",
       "      <td>49.487</td>\n",
       "    </tr>\n",
       "    <tr>\n",
       "      <th>2</th>\n",
       "      <td>Afghanistan</td>\n",
       "      <td>2002</td>\n",
       "      <td>23.600</td>\n",
       "      <td>29.901</td>\n",
       "      <td>51.904</td>\n",
       "    </tr>\n",
       "    <tr>\n",
       "      <th>3</th>\n",
       "      <td>Afghanistan</td>\n",
       "      <td>2003</td>\n",
       "      <td>25.581</td>\n",
       "      <td>32.005</td>\n",
       "      <td>54.321</td>\n",
       "    </tr>\n",
       "    <tr>\n",
       "      <th>4</th>\n",
       "      <td>Afghanistan</td>\n",
       "      <td>2004</td>\n",
       "      <td>27.561</td>\n",
       "      <td>34.126</td>\n",
       "      <td>56.739</td>\n",
       "    </tr>\n",
       "  </tbody>\n",
       "</table>\n",
       "</div>"
      ],
      "text/plain": [
       "Granularity      Country  Year  Rural  Total  Urban\n",
       "0            Afghanistan  2000 21.619 27.772 49.487\n",
       "1            Afghanistan  2001 21.619 27.797 49.487\n",
       "2            Afghanistan  2002 23.600 29.901 51.904\n",
       "3            Afghanistan  2003 25.581 32.005 54.321\n",
       "4            Afghanistan  2004 27.561 34.126 56.739"
      ]
     },
     "execution_count": 124,
     "metadata": {},
     "output_type": "execute_result"
    }
   ],
   "source": [
    "# un-pivot data\n",
    "wa_trim_1 = BasicAndSafelyManagedDrinkingWaterServices.pivot(index=['Country','Year'], columns='Granularity', values='Population using at least basic drinking-water services (%)').reset_index()\n",
    "wa_trim_1.head()"
   ]
  },
  {
   "cell_type": "code",
   "execution_count": 125,
   "id": "b891cdae",
   "metadata": {
    "tags": []
   },
   "outputs": [
    {
     "data": {
      "text/html": [
       "<div>\n",
       "<style scoped>\n",
       "    .dataframe tbody tr th:only-of-type {\n",
       "        vertical-align: middle;\n",
       "    }\n",
       "\n",
       "    .dataframe tbody tr th {\n",
       "        vertical-align: top;\n",
       "    }\n",
       "\n",
       "    .dataframe thead th {\n",
       "        text-align: right;\n",
       "    }\n",
       "</style>\n",
       "<table border=\"1\" class=\"dataframe\">\n",
       "  <thead>\n",
       "    <tr style=\"text-align: right;\">\n",
       "      <th></th>\n",
       "      <th>Year</th>\n",
       "      <th>Country</th>\n",
       "      <th>Population using safely managed drinking-water services (%)</th>\n",
       "    </tr>\n",
       "  </thead>\n",
       "  <tbody>\n",
       "    <tr>\n",
       "      <th>1</th>\n",
       "      <td>2000</td>\n",
       "      <td>Afghanistan</td>\n",
       "      <td>NaN</td>\n",
       "    </tr>\n",
       "    <tr>\n",
       "      <th>4</th>\n",
       "      <td>2000</td>\n",
       "      <td>Albania</td>\n",
       "      <td>49.293</td>\n",
       "    </tr>\n",
       "    <tr>\n",
       "      <th>7</th>\n",
       "      <td>2000</td>\n",
       "      <td>Algeria</td>\n",
       "      <td>NaN</td>\n",
       "    </tr>\n",
       "    <tr>\n",
       "      <th>10</th>\n",
       "      <td>2000</td>\n",
       "      <td>Andorra</td>\n",
       "      <td>90.640</td>\n",
       "    </tr>\n",
       "    <tr>\n",
       "      <th>13</th>\n",
       "      <td>2000</td>\n",
       "      <td>Angola</td>\n",
       "      <td>NaN</td>\n",
       "    </tr>\n",
       "  </tbody>\n",
       "</table>\n",
       "</div>"
      ],
      "text/plain": [
       "    Year      Country  \\\n",
       "1   2000  Afghanistan   \n",
       "4   2000      Albania   \n",
       "7   2000      Algeria   \n",
       "10  2000      Andorra   \n",
       "13  2000       Angola   \n",
       "\n",
       "    Population using safely managed drinking-water services (%)  \n",
       "1                                                           NaN  \n",
       "4                                                        49.293  \n",
       "7                                                           NaN  \n",
       "10                                                       90.640  \n",
       "13                                                          NaN  "
      ]
     },
     "execution_count": 125,
     "metadata": {},
     "output_type": "execute_result"
    }
   ],
   "source": [
    "# filter data\n",
    "wa_trim_2 = BasicAndSafelyManagedDrinkingWaterServices.loc[BasicAndSafelyManagedDrinkingWaterServices['Granularity'] == 'Total'][['Year', 'Country', 'Population using safely managed drinking-water services (%)']]\n",
    "wa_trim_2.head()"
   ]
  },
  {
   "cell_type": "code",
   "execution_count": 126,
   "id": "358fbd70",
   "metadata": {
    "tags": []
   },
   "outputs": [
    {
     "name": "stdout",
     "output_type": "stream",
     "text": [
      "There are  1747 null values in the table.\n"
     ]
    }
   ],
   "source": [
    "# count number of null values in countries dataframe\n",
    "nulls_wa_trim_2 = wa_trim_2.isna().sum().sum()\n",
    "if nulls_wa_trim_2 == 0:\n",
    "    print(\"There are no null values in the table.\")\n",
    "else:\n",
    "    print (\"There are \", nulls_wa_trim_2, \"null values in the table.\")"
   ]
  },
  {
   "cell_type": "code",
   "execution_count": 127,
   "id": "1164aba5",
   "metadata": {
    "tags": []
   },
   "outputs": [
    {
     "data": {
      "text/html": [
       "<div>\n",
       "<style scoped>\n",
       "    .dataframe tbody tr th:only-of-type {\n",
       "        vertical-align: middle;\n",
       "    }\n",
       "\n",
       "    .dataframe tbody tr th {\n",
       "        vertical-align: top;\n",
       "    }\n",
       "\n",
       "    .dataframe thead th {\n",
       "        text-align: right;\n",
       "    }\n",
       "</style>\n",
       "<table border=\"1\" class=\"dataframe\">\n",
       "  <thead>\n",
       "    <tr style=\"text-align: right;\">\n",
       "      <th></th>\n",
       "      <th>Country</th>\n",
       "      <th>Year</th>\n",
       "      <th>Rural</th>\n",
       "      <th>Total</th>\n",
       "      <th>Urban</th>\n",
       "      <th>Population using safely managed drinking-water services (%)</th>\n",
       "    </tr>\n",
       "  </thead>\n",
       "  <tbody>\n",
       "    <tr>\n",
       "      <th>0</th>\n",
       "      <td>Afghanistan</td>\n",
       "      <td>2000</td>\n",
       "      <td>21.619</td>\n",
       "      <td>27.772</td>\n",
       "      <td>49.487</td>\n",
       "      <td>NaN</td>\n",
       "    </tr>\n",
       "    <tr>\n",
       "      <th>1</th>\n",
       "      <td>Afghanistan</td>\n",
       "      <td>2001</td>\n",
       "      <td>21.619</td>\n",
       "      <td>27.797</td>\n",
       "      <td>49.487</td>\n",
       "      <td>NaN</td>\n",
       "    </tr>\n",
       "    <tr>\n",
       "      <th>2</th>\n",
       "      <td>Afghanistan</td>\n",
       "      <td>2002</td>\n",
       "      <td>23.600</td>\n",
       "      <td>29.901</td>\n",
       "      <td>51.904</td>\n",
       "      <td>NaN</td>\n",
       "    </tr>\n",
       "    <tr>\n",
       "      <th>3</th>\n",
       "      <td>Afghanistan</td>\n",
       "      <td>2003</td>\n",
       "      <td>25.581</td>\n",
       "      <td>32.005</td>\n",
       "      <td>54.321</td>\n",
       "      <td>NaN</td>\n",
       "    </tr>\n",
       "    <tr>\n",
       "      <th>4</th>\n",
       "      <td>Afghanistan</td>\n",
       "      <td>2004</td>\n",
       "      <td>27.561</td>\n",
       "      <td>34.126</td>\n",
       "      <td>56.739</td>\n",
       "      <td>NaN</td>\n",
       "    </tr>\n",
       "  </tbody>\n",
       "</table>\n",
       "</div>"
      ],
      "text/plain": [
       "       Country  Year  Rural  Total  Urban  \\\n",
       "0  Afghanistan  2000 21.619 27.772 49.487   \n",
       "1  Afghanistan  2001 21.619 27.797 49.487   \n",
       "2  Afghanistan  2002 23.600 29.901 51.904   \n",
       "3  Afghanistan  2003 25.581 32.005 54.321   \n",
       "4  Afghanistan  2004 27.561 34.126 56.739   \n",
       "\n",
       "   Population using safely managed drinking-water services (%)  \n",
       "0                                                          NaN  \n",
       "1                                                          NaN  \n",
       "2                                                          NaN  \n",
       "3                                                          NaN  \n",
       "4                                                          NaN  "
      ]
     },
     "execution_count": 127,
     "metadata": {},
     "output_type": "execute_result"
    }
   ],
   "source": [
    "# merge data\n",
    "BasicAndSafelyManagedDrinkingWaterServices_final = pd.merge(wa_trim_1, wa_trim_2, on=['Year','Country'])\n",
    "BasicAndSafelyManagedDrinkingWaterServices_final.head()"
   ]
  },
  {
   "cell_type": "code",
   "execution_count": 128,
   "id": "26bb52ea",
   "metadata": {
    "tags": []
   },
   "outputs": [
    {
     "data": {
      "text/html": [
       "<div>\n",
       "<style scoped>\n",
       "    .dataframe tbody tr th:only-of-type {\n",
       "        vertical-align: middle;\n",
       "    }\n",
       "\n",
       "    .dataframe tbody tr th {\n",
       "        vertical-align: top;\n",
       "    }\n",
       "\n",
       "    .dataframe thead th {\n",
       "        text-align: right;\n",
       "    }\n",
       "</style>\n",
       "<table border=\"1\" class=\"dataframe\">\n",
       "  <thead>\n",
       "    <tr style=\"text-align: right;\">\n",
       "      <th></th>\n",
       "      <th>p_country_name</th>\n",
       "      <th>p_year</th>\n",
       "      <th>water_rural_basic_%</th>\n",
       "      <th>total_basic_%</th>\n",
       "      <th>water_urban_basic_%</th>\n",
       "      <th>water_total_safe_%</th>\n",
       "    </tr>\n",
       "  </thead>\n",
       "  <tbody>\n",
       "    <tr>\n",
       "      <th>0</th>\n",
       "      <td>Afghanistan</td>\n",
       "      <td>2000</td>\n",
       "      <td>21.619</td>\n",
       "      <td>27.772</td>\n",
       "      <td>49.487</td>\n",
       "      <td>NaN</td>\n",
       "    </tr>\n",
       "    <tr>\n",
       "      <th>1</th>\n",
       "      <td>Afghanistan</td>\n",
       "      <td>2001</td>\n",
       "      <td>21.619</td>\n",
       "      <td>27.797</td>\n",
       "      <td>49.487</td>\n",
       "      <td>NaN</td>\n",
       "    </tr>\n",
       "    <tr>\n",
       "      <th>2</th>\n",
       "      <td>Afghanistan</td>\n",
       "      <td>2002</td>\n",
       "      <td>23.600</td>\n",
       "      <td>29.901</td>\n",
       "      <td>51.904</td>\n",
       "      <td>NaN</td>\n",
       "    </tr>\n",
       "    <tr>\n",
       "      <th>3</th>\n",
       "      <td>Afghanistan</td>\n",
       "      <td>2003</td>\n",
       "      <td>25.581</td>\n",
       "      <td>32.005</td>\n",
       "      <td>54.321</td>\n",
       "      <td>NaN</td>\n",
       "    </tr>\n",
       "    <tr>\n",
       "      <th>4</th>\n",
       "      <td>Afghanistan</td>\n",
       "      <td>2004</td>\n",
       "      <td>27.561</td>\n",
       "      <td>34.126</td>\n",
       "      <td>56.739</td>\n",
       "      <td>NaN</td>\n",
       "    </tr>\n",
       "  </tbody>\n",
       "</table>\n",
       "</div>"
      ],
      "text/plain": [
       "  p_country_name  p_year  water_rural_basic_%  total_basic_%  \\\n",
       "0    Afghanistan    2000               21.619         27.772   \n",
       "1    Afghanistan    2001               21.619         27.797   \n",
       "2    Afghanistan    2002               23.600         29.901   \n",
       "3    Afghanistan    2003               25.581         32.005   \n",
       "4    Afghanistan    2004               27.561         34.126   \n",
       "\n",
       "   water_urban_basic_%  water_total_safe_%  \n",
       "0               49.487                 NaN  \n",
       "1               49.487                 NaN  \n",
       "2               51.904                 NaN  \n",
       "3               54.321                 NaN  \n",
       "4               56.739                 NaN  "
      ]
     },
     "execution_count": 128,
     "metadata": {},
     "output_type": "execute_result"
    }
   ],
   "source": [
    "# rename columns\n",
    "BasicAndSafelyManagedDrinkingWaterServices_final.rename(columns={'Country': 'p_country_name', 'Year':'p_year', 'Rural': 'water_rural_basic_%', 'Total':'total_basic_%', 'Urban': 'water_urban_basic_%',\n",
    "                             \"Population using safely managed drinking-water services (%)\":'water_total_safe_%'}, inplace=True)\n",
    "BasicAndSafelyManagedDrinkingWaterServices_final.head()"
   ]
  },
  {
   "cell_type": "code",
   "execution_count": 129,
   "id": "fe1b8fc2",
   "metadata": {
    "tags": []
   },
   "outputs": [
    {
     "data": {
      "text/html": [
       "<div>\n",
       "<style scoped>\n",
       "    .dataframe tbody tr th:only-of-type {\n",
       "        vertical-align: middle;\n",
       "    }\n",
       "\n",
       "    .dataframe tbody tr th {\n",
       "        vertical-align: top;\n",
       "    }\n",
       "\n",
       "    .dataframe thead th {\n",
       "        text-align: right;\n",
       "    }\n",
       "</style>\n",
       "<table border=\"1\" class=\"dataframe\">\n",
       "  <thead>\n",
       "    <tr style=\"text-align: right;\">\n",
       "      <th></th>\n",
       "      <th>p_country_name</th>\n",
       "      <th>p_year</th>\n",
       "      <th>water_rural_basic_%</th>\n",
       "      <th>total_basic_%</th>\n",
       "      <th>water_urban_basic_%</th>\n",
       "      <th>water_total_safe_%</th>\n",
       "      <th>female_population</th>\n",
       "      <th>male_population</th>\n",
       "      <th>rural_population</th>\n",
       "      <th>urban_population</th>\n",
       "    </tr>\n",
       "  </thead>\n",
       "  <tbody>\n",
       "    <tr>\n",
       "      <th>0</th>\n",
       "      <td>Afghanistan</td>\n",
       "      <td>2000</td>\n",
       "      <td>21.619</td>\n",
       "      <td>27.772</td>\n",
       "      <td>49.487</td>\n",
       "      <td>NaN</td>\n",
       "      <td>10090449</td>\n",
       "      <td>10689508</td>\n",
       "      <td>15657474</td>\n",
       "      <td>4436282</td>\n",
       "    </tr>\n",
       "    <tr>\n",
       "      <th>1</th>\n",
       "      <td>Afghanistan</td>\n",
       "      <td>2001</td>\n",
       "      <td>21.619</td>\n",
       "      <td>27.797</td>\n",
       "      <td>49.487</td>\n",
       "      <td>NaN</td>\n",
       "      <td>10489238</td>\n",
       "      <td>11117754</td>\n",
       "      <td>16318324</td>\n",
       "      <td>4648139</td>\n",
       "    </tr>\n",
       "    <tr>\n",
       "      <th>2</th>\n",
       "      <td>Afghanistan</td>\n",
       "      <td>2002</td>\n",
       "      <td>23.600</td>\n",
       "      <td>29.901</td>\n",
       "      <td>51.904</td>\n",
       "      <td>NaN</td>\n",
       "      <td>10958668</td>\n",
       "      <td>11642106</td>\n",
       "      <td>17086910</td>\n",
       "      <td>4893013</td>\n",
       "    </tr>\n",
       "    <tr>\n",
       "      <th>3</th>\n",
       "      <td>Afghanistan</td>\n",
       "      <td>2003</td>\n",
       "      <td>25.581</td>\n",
       "      <td>32.005</td>\n",
       "      <td>54.321</td>\n",
       "      <td>NaN</td>\n",
       "      <td>11466237</td>\n",
       "      <td>12214634</td>\n",
       "      <td>17909063</td>\n",
       "      <td>5155788</td>\n",
       "    </tr>\n",
       "    <tr>\n",
       "      <th>4</th>\n",
       "      <td>Afghanistan</td>\n",
       "      <td>2004</td>\n",
       "      <td>27.561</td>\n",
       "      <td>34.126</td>\n",
       "      <td>56.739</td>\n",
       "      <td>NaN</td>\n",
       "      <td>11962963</td>\n",
       "      <td>12763726</td>\n",
       "      <td>18692107</td>\n",
       "      <td>5426872</td>\n",
       "    </tr>\n",
       "  </tbody>\n",
       "</table>\n",
       "</div>"
      ],
      "text/plain": [
       "  p_country_name  p_year  water_rural_basic_%  total_basic_%  \\\n",
       "0    Afghanistan    2000               21.619         27.772   \n",
       "1    Afghanistan    2001               21.619         27.797   \n",
       "2    Afghanistan    2002               23.600         29.901   \n",
       "3    Afghanistan    2003               25.581         32.005   \n",
       "4    Afghanistan    2004               27.561         34.126   \n",
       "\n",
       "   water_urban_basic_%  water_total_safe_%  female_population  \\\n",
       "0               49.487                 NaN           10090449   \n",
       "1               49.487                 NaN           10489238   \n",
       "2               51.904                 NaN           10958668   \n",
       "3               54.321                 NaN           11466237   \n",
       "4               56.739                 NaN           11962963   \n",
       "\n",
       "   male_population  rural_population  urban_population  \n",
       "0         10689508          15657474           4436282  \n",
       "1         11117754          16318324           4648139  \n",
       "2         11642106          17086910           4893013  \n",
       "3         12214634          17909063           5155788  \n",
       "4         12763726          18692107           5426872  "
      ]
     },
     "execution_count": 129,
     "metadata": {},
     "output_type": "execute_result"
    }
   ],
   "source": [
    "# merge data\n",
    "BasicAndSafelyManagedDrinkingWaterServices_final_2 = pd.merge(BasicAndSafelyManagedDrinkingWaterServices_final, Population_final, on=['p_country_name','p_year'])\n",
    "BasicAndSafelyManagedDrinkingWaterServices_final_2.head()"
   ]
  },
  {
   "cell_type": "code",
   "execution_count": 130,
   "id": "02965fea",
   "metadata": {
    "tags": []
   },
   "outputs": [
    {
     "data": {
      "text/html": [
       "<div>\n",
       "<style scoped>\n",
       "    .dataframe tbody tr th:only-of-type {\n",
       "        vertical-align: middle;\n",
       "    }\n",
       "\n",
       "    .dataframe tbody tr th {\n",
       "        vertical-align: top;\n",
       "    }\n",
       "\n",
       "    .dataframe thead th {\n",
       "        text-align: right;\n",
       "    }\n",
       "</style>\n",
       "<table border=\"1\" class=\"dataframe\">\n",
       "  <thead>\n",
       "    <tr style=\"text-align: right;\">\n",
       "      <th></th>\n",
       "      <th>p_country_name</th>\n",
       "      <th>p_year</th>\n",
       "      <th>water_rural_basic_%</th>\n",
       "      <th>total_basic_%</th>\n",
       "      <th>water_urban_basic_%</th>\n",
       "      <th>water_total_safe_%</th>\n",
       "      <th>female_population</th>\n",
       "      <th>male_population</th>\n",
       "      <th>rural_population</th>\n",
       "      <th>urban_population</th>\n",
       "      <th>pop_tot</th>\n",
       "    </tr>\n",
       "  </thead>\n",
       "  <tbody>\n",
       "    <tr>\n",
       "      <th>0</th>\n",
       "      <td>Afghanistan</td>\n",
       "      <td>2000</td>\n",
       "      <td>21.619</td>\n",
       "      <td>27.772</td>\n",
       "      <td>49.487</td>\n",
       "      <td>NaN</td>\n",
       "      <td>10090449</td>\n",
       "      <td>10689508</td>\n",
       "      <td>15657474</td>\n",
       "      <td>4436282</td>\n",
       "      <td>20779957</td>\n",
       "    </tr>\n",
       "    <tr>\n",
       "      <th>1</th>\n",
       "      <td>Afghanistan</td>\n",
       "      <td>2001</td>\n",
       "      <td>21.619</td>\n",
       "      <td>27.797</td>\n",
       "      <td>49.487</td>\n",
       "      <td>NaN</td>\n",
       "      <td>10489238</td>\n",
       "      <td>11117754</td>\n",
       "      <td>16318324</td>\n",
       "      <td>4648139</td>\n",
       "      <td>21606992</td>\n",
       "    </tr>\n",
       "    <tr>\n",
       "      <th>2</th>\n",
       "      <td>Afghanistan</td>\n",
       "      <td>2002</td>\n",
       "      <td>23.600</td>\n",
       "      <td>29.901</td>\n",
       "      <td>51.904</td>\n",
       "      <td>NaN</td>\n",
       "      <td>10958668</td>\n",
       "      <td>11642106</td>\n",
       "      <td>17086910</td>\n",
       "      <td>4893013</td>\n",
       "      <td>22600774</td>\n",
       "    </tr>\n",
       "    <tr>\n",
       "      <th>3</th>\n",
       "      <td>Afghanistan</td>\n",
       "      <td>2003</td>\n",
       "      <td>25.581</td>\n",
       "      <td>32.005</td>\n",
       "      <td>54.321</td>\n",
       "      <td>NaN</td>\n",
       "      <td>11466237</td>\n",
       "      <td>12214634</td>\n",
       "      <td>17909063</td>\n",
       "      <td>5155788</td>\n",
       "      <td>23680871</td>\n",
       "    </tr>\n",
       "    <tr>\n",
       "      <th>4</th>\n",
       "      <td>Afghanistan</td>\n",
       "      <td>2004</td>\n",
       "      <td>27.561</td>\n",
       "      <td>34.126</td>\n",
       "      <td>56.739</td>\n",
       "      <td>NaN</td>\n",
       "      <td>11962963</td>\n",
       "      <td>12763726</td>\n",
       "      <td>18692107</td>\n",
       "      <td>5426872</td>\n",
       "      <td>24726689</td>\n",
       "    </tr>\n",
       "  </tbody>\n",
       "</table>\n",
       "</div>"
      ],
      "text/plain": [
       "  p_country_name  p_year  water_rural_basic_%  total_basic_%  \\\n",
       "0    Afghanistan    2000               21.619         27.772   \n",
       "1    Afghanistan    2001               21.619         27.797   \n",
       "2    Afghanistan    2002               23.600         29.901   \n",
       "3    Afghanistan    2003               25.581         32.005   \n",
       "4    Afghanistan    2004               27.561         34.126   \n",
       "\n",
       "   water_urban_basic_%  water_total_safe_%  female_population  \\\n",
       "0               49.487                 NaN           10090449   \n",
       "1               49.487                 NaN           10489238   \n",
       "2               51.904                 NaN           10958668   \n",
       "3               54.321                 NaN           11466237   \n",
       "4               56.739                 NaN           11962963   \n",
       "\n",
       "   male_population  rural_population  urban_population   pop_tot  \n",
       "0         10689508          15657474           4436282  20779957  \n",
       "1         11117754          16318324           4648139  21606992  \n",
       "2         11642106          17086910           4893013  22600774  \n",
       "3         12214634          17909063           5155788  23680871  \n",
       "4         12763726          18692107           5426872  24726689  "
      ]
     },
     "execution_count": 130,
     "metadata": {},
     "output_type": "execute_result"
    }
   ],
   "source": [
    "# add total population\n",
    "BasicAndSafelyManagedDrinkingWaterServices_final_2['pop_tot'] = BasicAndSafelyManagedDrinkingWaterServices_final_2['female_population'] + BasicAndSafelyManagedDrinkingWaterServices_final_2['male_population']\n",
    "BasicAndSafelyManagedDrinkingWaterServices_final_2.head()"
   ]
  },
  {
   "cell_type": "code",
   "execution_count": 131,
   "id": "2f28d5f3",
   "metadata": {
    "tags": []
   },
   "outputs": [
    {
     "data": {
      "text/html": [
       "<div>\n",
       "<style scoped>\n",
       "    .dataframe tbody tr th:only-of-type {\n",
       "        vertical-align: middle;\n",
       "    }\n",
       "\n",
       "    .dataframe tbody tr th {\n",
       "        vertical-align: top;\n",
       "    }\n",
       "\n",
       "    .dataframe thead th {\n",
       "        text-align: right;\n",
       "    }\n",
       "</style>\n",
       "<table border=\"1\" class=\"dataframe\">\n",
       "  <thead>\n",
       "    <tr style=\"text-align: right;\">\n",
       "      <th></th>\n",
       "      <th>p_country_name</th>\n",
       "      <th>p_year</th>\n",
       "      <th>water_rural_basic_%</th>\n",
       "      <th>total_basic_%</th>\n",
       "      <th>water_urban_basic_%</th>\n",
       "      <th>water_total_safe_%</th>\n",
       "      <th>female_population</th>\n",
       "      <th>male_population</th>\n",
       "      <th>rural_population</th>\n",
       "      <th>urban_population</th>\n",
       "      <th>pop_tot</th>\n",
       "      <th>water_rural_basic_mio</th>\n",
       "      <th>water_urban_basic_mio</th>\n",
       "      <th>total_basic_mio</th>\n",
       "      <th>water_total_safe_mio</th>\n",
       "    </tr>\n",
       "  </thead>\n",
       "  <tbody>\n",
       "    <tr>\n",
       "      <th>0</th>\n",
       "      <td>Afghanistan</td>\n",
       "      <td>2000</td>\n",
       "      <td>21.619</td>\n",
       "      <td>27.772</td>\n",
       "      <td>49.487</td>\n",
       "      <td>NaN</td>\n",
       "      <td>10090449</td>\n",
       "      <td>10689508</td>\n",
       "      <td>15657474</td>\n",
       "      <td>4436282</td>\n",
       "      <td>20779957</td>\n",
       "      <td>3385010.000</td>\n",
       "      <td>2195403.000</td>\n",
       "      <td>5770989.000</td>\n",
       "      <td>NaN</td>\n",
       "    </tr>\n",
       "    <tr>\n",
       "      <th>1</th>\n",
       "      <td>Afghanistan</td>\n",
       "      <td>2001</td>\n",
       "      <td>21.619</td>\n",
       "      <td>27.797</td>\n",
       "      <td>49.487</td>\n",
       "      <td>NaN</td>\n",
       "      <td>10489238</td>\n",
       "      <td>11117754</td>\n",
       "      <td>16318324</td>\n",
       "      <td>4648139</td>\n",
       "      <td>21606992</td>\n",
       "      <td>3527880.000</td>\n",
       "      <td>2300245.000</td>\n",
       "      <td>6006152.000</td>\n",
       "      <td>NaN</td>\n",
       "    </tr>\n",
       "    <tr>\n",
       "      <th>2</th>\n",
       "      <td>Afghanistan</td>\n",
       "      <td>2002</td>\n",
       "      <td>23.600</td>\n",
       "      <td>29.901</td>\n",
       "      <td>51.904</td>\n",
       "      <td>NaN</td>\n",
       "      <td>10958668</td>\n",
       "      <td>11642106</td>\n",
       "      <td>17086910</td>\n",
       "      <td>4893013</td>\n",
       "      <td>22600774</td>\n",
       "      <td>4032490.000</td>\n",
       "      <td>2539692.000</td>\n",
       "      <td>6757803.000</td>\n",
       "      <td>NaN</td>\n",
       "    </tr>\n",
       "    <tr>\n",
       "      <th>3</th>\n",
       "      <td>Afghanistan</td>\n",
       "      <td>2003</td>\n",
       "      <td>25.581</td>\n",
       "      <td>32.005</td>\n",
       "      <td>54.321</td>\n",
       "      <td>NaN</td>\n",
       "      <td>11466237</td>\n",
       "      <td>12214634</td>\n",
       "      <td>17909063</td>\n",
       "      <td>5155788</td>\n",
       "      <td>23680871</td>\n",
       "      <td>4581251.000</td>\n",
       "      <td>2800701.000</td>\n",
       "      <td>7579079.000</td>\n",
       "      <td>NaN</td>\n",
       "    </tr>\n",
       "    <tr>\n",
       "      <th>4</th>\n",
       "      <td>Afghanistan</td>\n",
       "      <td>2004</td>\n",
       "      <td>27.561</td>\n",
       "      <td>34.126</td>\n",
       "      <td>56.739</td>\n",
       "      <td>NaN</td>\n",
       "      <td>11962963</td>\n",
       "      <td>12763726</td>\n",
       "      <td>18692107</td>\n",
       "      <td>5426872</td>\n",
       "      <td>24726689</td>\n",
       "      <td>5151803.000</td>\n",
       "      <td>3079126.000</td>\n",
       "      <td>8438287.000</td>\n",
       "      <td>NaN</td>\n",
       "    </tr>\n",
       "  </tbody>\n",
       "</table>\n",
       "</div>"
      ],
      "text/plain": [
       "  p_country_name  p_year  water_rural_basic_%  total_basic_%  \\\n",
       "0    Afghanistan    2000               21.619         27.772   \n",
       "1    Afghanistan    2001               21.619         27.797   \n",
       "2    Afghanistan    2002               23.600         29.901   \n",
       "3    Afghanistan    2003               25.581         32.005   \n",
       "4    Afghanistan    2004               27.561         34.126   \n",
       "\n",
       "   water_urban_basic_%  water_total_safe_%  female_population  \\\n",
       "0               49.487                 NaN           10090449   \n",
       "1               49.487                 NaN           10489238   \n",
       "2               51.904                 NaN           10958668   \n",
       "3               54.321                 NaN           11466237   \n",
       "4               56.739                 NaN           11962963   \n",
       "\n",
       "   male_population  rural_population  urban_population   pop_tot  \\\n",
       "0         10689508          15657474           4436282  20779957   \n",
       "1         11117754          16318324           4648139  21606992   \n",
       "2         11642106          17086910           4893013  22600774   \n",
       "3         12214634          17909063           5155788  23680871   \n",
       "4         12763726          18692107           5426872  24726689   \n",
       "\n",
       "   water_rural_basic_mio  water_urban_basic_mio  total_basic_mio  \\\n",
       "0            3385010.000            2195403.000      5770989.000   \n",
       "1            3527880.000            2300245.000      6006152.000   \n",
       "2            4032490.000            2539692.000      6757803.000   \n",
       "3            4581251.000            2800701.000      7579079.000   \n",
       "4            5151803.000            3079126.000      8438287.000   \n",
       "\n",
       "   water_total_safe_mio  \n",
       "0                   NaN  \n",
       "1                   NaN  \n",
       "2                   NaN  \n",
       "3                   NaN  \n",
       "4                   NaN  "
      ]
     },
     "execution_count": 131,
     "metadata": {},
     "output_type": "execute_result"
    }
   ],
   "source": [
    "# add calculations\n",
    "BasicAndSafelyManagedDrinkingWaterServices_final_2['water_rural_basic_mio'] = round((BasicAndSafelyManagedDrinkingWaterServices_final_2['water_rural_basic_%'] / 100) * BasicAndSafelyManagedDrinkingWaterServices_final_2['rural_population'], 0)\n",
    "BasicAndSafelyManagedDrinkingWaterServices_final_2['water_urban_basic_mio'] = round((BasicAndSafelyManagedDrinkingWaterServices_final_2['water_urban_basic_%'] / 100) * BasicAndSafelyManagedDrinkingWaterServices_final_2['urban_population'], 0)\n",
    "BasicAndSafelyManagedDrinkingWaterServices_final_2['total_basic_mio'] = round((BasicAndSafelyManagedDrinkingWaterServices_final_2['total_basic_%'] / 100) * BasicAndSafelyManagedDrinkingWaterServices_final_2['pop_tot'], 0)\n",
    "BasicAndSafelyManagedDrinkingWaterServices_final_2['water_total_safe_mio'] = round((BasicAndSafelyManagedDrinkingWaterServices_final_2['water_total_safe_%'] / 100) * BasicAndSafelyManagedDrinkingWaterServices_final_2['pop_tot'], 0)\n",
    "BasicAndSafelyManagedDrinkingWaterServices_final_2.head()"
   ]
  },
  {
   "cell_type": "code",
   "execution_count": 132,
   "id": "7021cf8f-1733-481e-a7f4-e7e17ecad056",
   "metadata": {
    "tags": []
   },
   "outputs": [
    {
     "data": {
      "text/html": [
       "<div>\n",
       "<style scoped>\n",
       "    .dataframe tbody tr th:only-of-type {\n",
       "        vertical-align: middle;\n",
       "    }\n",
       "\n",
       "    .dataframe tbody tr th {\n",
       "        vertical-align: top;\n",
       "    }\n",
       "\n",
       "    .dataframe thead th {\n",
       "        text-align: right;\n",
       "    }\n",
       "</style>\n",
       "<table border=\"1\" class=\"dataframe\">\n",
       "  <thead>\n",
       "    <tr style=\"text-align: right;\">\n",
       "      <th></th>\n",
       "      <th>p_country_name</th>\n",
       "      <th>p_year</th>\n",
       "      <th>water_rural_basic_%</th>\n",
       "      <th>total_basic_%</th>\n",
       "      <th>water_urban_basic_%</th>\n",
       "      <th>water_total_safe_%</th>\n",
       "      <th>female_population</th>\n",
       "      <th>male_population</th>\n",
       "      <th>rural_population</th>\n",
       "      <th>urban_population</th>\n",
       "      <th>pop_tot</th>\n",
       "      <th>water_rural_basic_mio</th>\n",
       "      <th>water_urban_basic_mio</th>\n",
       "      <th>total_basic_mio</th>\n",
       "      <th>water_total_safe_mio</th>\n",
       "    </tr>\n",
       "  </thead>\n",
       "  <tbody>\n",
       "    <tr>\n",
       "      <th>0</th>\n",
       "      <td>Afghanistan</td>\n",
       "      <td>2000</td>\n",
       "      <td>21.619</td>\n",
       "      <td>27.772</td>\n",
       "      <td>49.487</td>\n",
       "      <td>NaN</td>\n",
       "      <td>10090449</td>\n",
       "      <td>10689508</td>\n",
       "      <td>15657474</td>\n",
       "      <td>4436282</td>\n",
       "      <td>20779957</td>\n",
       "      <td>3385010.000</td>\n",
       "      <td>2195403.000</td>\n",
       "      <td>5770989.000</td>\n",
       "      <td>NaN</td>\n",
       "    </tr>\n",
       "    <tr>\n",
       "      <th>1</th>\n",
       "      <td>Afghanistan</td>\n",
       "      <td>2001</td>\n",
       "      <td>21.619</td>\n",
       "      <td>27.797</td>\n",
       "      <td>49.487</td>\n",
       "      <td>NaN</td>\n",
       "      <td>10489238</td>\n",
       "      <td>11117754</td>\n",
       "      <td>16318324</td>\n",
       "      <td>4648139</td>\n",
       "      <td>21606992</td>\n",
       "      <td>3527880.000</td>\n",
       "      <td>2300245.000</td>\n",
       "      <td>6006152.000</td>\n",
       "      <td>NaN</td>\n",
       "    </tr>\n",
       "    <tr>\n",
       "      <th>2</th>\n",
       "      <td>Afghanistan</td>\n",
       "      <td>2002</td>\n",
       "      <td>23.600</td>\n",
       "      <td>29.901</td>\n",
       "      <td>51.904</td>\n",
       "      <td>NaN</td>\n",
       "      <td>10958668</td>\n",
       "      <td>11642106</td>\n",
       "      <td>17086910</td>\n",
       "      <td>4893013</td>\n",
       "      <td>22600774</td>\n",
       "      <td>4032490.000</td>\n",
       "      <td>2539692.000</td>\n",
       "      <td>6757803.000</td>\n",
       "      <td>NaN</td>\n",
       "    </tr>\n",
       "    <tr>\n",
       "      <th>3</th>\n",
       "      <td>Afghanistan</td>\n",
       "      <td>2003</td>\n",
       "      <td>25.581</td>\n",
       "      <td>32.005</td>\n",
       "      <td>54.321</td>\n",
       "      <td>NaN</td>\n",
       "      <td>11466237</td>\n",
       "      <td>12214634</td>\n",
       "      <td>17909063</td>\n",
       "      <td>5155788</td>\n",
       "      <td>23680871</td>\n",
       "      <td>4581251.000</td>\n",
       "      <td>2800701.000</td>\n",
       "      <td>7579079.000</td>\n",
       "      <td>NaN</td>\n",
       "    </tr>\n",
       "    <tr>\n",
       "      <th>4</th>\n",
       "      <td>Afghanistan</td>\n",
       "      <td>2004</td>\n",
       "      <td>27.561</td>\n",
       "      <td>34.126</td>\n",
       "      <td>56.739</td>\n",
       "      <td>NaN</td>\n",
       "      <td>11962963</td>\n",
       "      <td>12763726</td>\n",
       "      <td>18692107</td>\n",
       "      <td>5426872</td>\n",
       "      <td>24726689</td>\n",
       "      <td>5151803.000</td>\n",
       "      <td>3079126.000</td>\n",
       "      <td>8438287.000</td>\n",
       "      <td>NaN</td>\n",
       "    </tr>\n",
       "  </tbody>\n",
       "</table>\n",
       "</div>"
      ],
      "text/plain": [
       "  p_country_name  p_year  water_rural_basic_%  total_basic_%  \\\n",
       "0    Afghanistan    2000               21.619         27.772   \n",
       "1    Afghanistan    2001               21.619         27.797   \n",
       "2    Afghanistan    2002               23.600         29.901   \n",
       "3    Afghanistan    2003               25.581         32.005   \n",
       "4    Afghanistan    2004               27.561         34.126   \n",
       "\n",
       "   water_urban_basic_%  water_total_safe_%  female_population  \\\n",
       "0               49.487                 NaN           10090449   \n",
       "1               49.487                 NaN           10489238   \n",
       "2               51.904                 NaN           10958668   \n",
       "3               54.321                 NaN           11466237   \n",
       "4               56.739                 NaN           11962963   \n",
       "\n",
       "   male_population  rural_population  urban_population   pop_tot  \\\n",
       "0         10689508          15657474           4436282  20779957   \n",
       "1         11117754          16318324           4648139  21606992   \n",
       "2         11642106          17086910           4893013  22600774   \n",
       "3         12214634          17909063           5155788  23680871   \n",
       "4         12763726          18692107           5426872  24726689   \n",
       "\n",
       "   water_rural_basic_mio  water_urban_basic_mio  total_basic_mio  \\\n",
       "0            3385010.000            2195403.000      5770989.000   \n",
       "1            3527880.000            2300245.000      6006152.000   \n",
       "2            4032490.000            2539692.000      6757803.000   \n",
       "3            4581251.000            2800701.000      7579079.000   \n",
       "4            5151803.000            3079126.000      8438287.000   \n",
       "\n",
       "   water_total_safe_mio  \n",
       "0                   NaN  \n",
       "1                   NaN  \n",
       "2                   NaN  \n",
       "3                   NaN  \n",
       "4                   NaN  "
      ]
     },
     "execution_count": 132,
     "metadata": {},
     "output_type": "execute_result"
    }
   ],
   "source": [
    "BasicAndSafelyManagedDrinkingWaterServices_final_2.head()"
   ]
  },
  {
   "cell_type": "code",
   "execution_count": 133,
   "id": "d19db184",
   "metadata": {
    "tags": []
   },
   "outputs": [
    {
     "data": {
      "text/html": [
       "<div>\n",
       "<style scoped>\n",
       "    .dataframe tbody tr th:only-of-type {\n",
       "        vertical-align: middle;\n",
       "    }\n",
       "\n",
       "    .dataframe tbody tr th {\n",
       "        vertical-align: top;\n",
       "    }\n",
       "\n",
       "    .dataframe thead th {\n",
       "        text-align: right;\n",
       "    }\n",
       "</style>\n",
       "<table border=\"1\" class=\"dataframe\">\n",
       "  <thead>\n",
       "    <tr style=\"text-align: right;\">\n",
       "      <th></th>\n",
       "      <th>p_country_name</th>\n",
       "      <th>p_year</th>\n",
       "      <th>pop_tot</th>\n",
       "      <th>water_rural_basic_mio</th>\n",
       "      <th>water_urban_basic_mio</th>\n",
       "      <th>total_basic_mio</th>\n",
       "      <th>water_total_safe_mio</th>\n",
       "    </tr>\n",
       "  </thead>\n",
       "  <tbody>\n",
       "    <tr>\n",
       "      <th>0</th>\n",
       "      <td>Afghanistan</td>\n",
       "      <td>2000</td>\n",
       "      <td>20779957</td>\n",
       "      <td>3385010.000</td>\n",
       "      <td>2195403.000</td>\n",
       "      <td>5770989.000</td>\n",
       "      <td>NaN</td>\n",
       "    </tr>\n",
       "    <tr>\n",
       "      <th>1</th>\n",
       "      <td>Afghanistan</td>\n",
       "      <td>2001</td>\n",
       "      <td>21606992</td>\n",
       "      <td>3527880.000</td>\n",
       "      <td>2300245.000</td>\n",
       "      <td>6006152.000</td>\n",
       "      <td>NaN</td>\n",
       "    </tr>\n",
       "    <tr>\n",
       "      <th>2</th>\n",
       "      <td>Afghanistan</td>\n",
       "      <td>2002</td>\n",
       "      <td>22600774</td>\n",
       "      <td>4032490.000</td>\n",
       "      <td>2539692.000</td>\n",
       "      <td>6757803.000</td>\n",
       "      <td>NaN</td>\n",
       "    </tr>\n",
       "    <tr>\n",
       "      <th>3</th>\n",
       "      <td>Afghanistan</td>\n",
       "      <td>2003</td>\n",
       "      <td>23680871</td>\n",
       "      <td>4581251.000</td>\n",
       "      <td>2800701.000</td>\n",
       "      <td>7579079.000</td>\n",
       "      <td>NaN</td>\n",
       "    </tr>\n",
       "    <tr>\n",
       "      <th>4</th>\n",
       "      <td>Afghanistan</td>\n",
       "      <td>2004</td>\n",
       "      <td>24726689</td>\n",
       "      <td>5151803.000</td>\n",
       "      <td>3079126.000</td>\n",
       "      <td>8438287.000</td>\n",
       "      <td>NaN</td>\n",
       "    </tr>\n",
       "  </tbody>\n",
       "</table>\n",
       "</div>"
      ],
      "text/plain": [
       "  p_country_name  p_year   pop_tot  water_rural_basic_mio  \\\n",
       "0    Afghanistan    2000  20779957            3385010.000   \n",
       "1    Afghanistan    2001  21606992            3527880.000   \n",
       "2    Afghanistan    2002  22600774            4032490.000   \n",
       "3    Afghanistan    2003  23680871            4581251.000   \n",
       "4    Afghanistan    2004  24726689            5151803.000   \n",
       "\n",
       "   water_urban_basic_mio  total_basic_mio  water_total_safe_mio  \n",
       "0            2195403.000      5770989.000                   NaN  \n",
       "1            2300245.000      6006152.000                   NaN  \n",
       "2            2539692.000      6757803.000                   NaN  \n",
       "3            2800701.000      7579079.000                   NaN  \n",
       "4            3079126.000      8438287.000                   NaN  "
      ]
     },
     "execution_count": 133,
     "metadata": {},
     "output_type": "execute_result"
    }
   ],
   "source": [
    "# reorder columns\n",
    "BasicAndSafelyManagedDrinkingWaterServices_final = BasicAndSafelyManagedDrinkingWaterServices_final_2[['p_country_name','p_year','pop_tot', 'water_rural_basic_mio','water_urban_basic_mio','total_basic_mio','water_total_safe_mio']].copy() \n",
    "BasicAndSafelyManagedDrinkingWaterServices_final.head()"
   ]
  },
  {
   "cell_type": "code",
   "execution_count": 134,
   "id": "8262f9c8",
   "metadata": {
    "tags": []
   },
   "outputs": [],
   "source": [
    "# type casting - attn cannot type cast if column contains NaNs\n",
    "BasicAndSafelyManagedDrinkingWaterServices_final['p_country_name'] = BasicAndSafelyManagedDrinkingWaterServices_final['p_country_name'].astype('string')\n",
    "BasicAndSafelyManagedDrinkingWaterServices_final_2['p_country_name'] = BasicAndSafelyManagedDrinkingWaterServices_final_2['p_country_name'].astype('string')"
   ]
  },
  {
   "cell_type": "code",
   "execution_count": 135,
   "id": "fa85012e-0a1b-4c11-ba4e-1832a3862aed",
   "metadata": {
    "tags": []
   },
   "outputs": [
    {
     "data": {
      "text/html": [
       "<div>\n",
       "<style scoped>\n",
       "    .dataframe tbody tr th:only-of-type {\n",
       "        vertical-align: middle;\n",
       "    }\n",
       "\n",
       "    .dataframe tbody tr th {\n",
       "        vertical-align: top;\n",
       "    }\n",
       "\n",
       "    .dataframe thead th {\n",
       "        text-align: right;\n",
       "    }\n",
       "</style>\n",
       "<table border=\"1\" class=\"dataframe\">\n",
       "  <thead>\n",
       "    <tr style=\"text-align: right;\">\n",
       "      <th></th>\n",
       "      <th>dw_country_name</th>\n",
       "      <th>dw_year</th>\n",
       "      <th>pop_tot</th>\n",
       "      <th>water_rural_basic_mio</th>\n",
       "      <th>water_urban_basic_mio</th>\n",
       "      <th>total_basic_mio</th>\n",
       "      <th>water_total_safe_mio</th>\n",
       "    </tr>\n",
       "  </thead>\n",
       "  <tbody>\n",
       "    <tr>\n",
       "      <th>0</th>\n",
       "      <td>Afghanistan</td>\n",
       "      <td>2000</td>\n",
       "      <td>20779957</td>\n",
       "      <td>3385010.000</td>\n",
       "      <td>2195403.000</td>\n",
       "      <td>5770989.000</td>\n",
       "      <td>NaN</td>\n",
       "    </tr>\n",
       "    <tr>\n",
       "      <th>1</th>\n",
       "      <td>Afghanistan</td>\n",
       "      <td>2001</td>\n",
       "      <td>21606992</td>\n",
       "      <td>3527880.000</td>\n",
       "      <td>2300245.000</td>\n",
       "      <td>6006152.000</td>\n",
       "      <td>NaN</td>\n",
       "    </tr>\n",
       "    <tr>\n",
       "      <th>2</th>\n",
       "      <td>Afghanistan</td>\n",
       "      <td>2002</td>\n",
       "      <td>22600774</td>\n",
       "      <td>4032490.000</td>\n",
       "      <td>2539692.000</td>\n",
       "      <td>6757803.000</td>\n",
       "      <td>NaN</td>\n",
       "    </tr>\n",
       "    <tr>\n",
       "      <th>3</th>\n",
       "      <td>Afghanistan</td>\n",
       "      <td>2003</td>\n",
       "      <td>23680871</td>\n",
       "      <td>4581251.000</td>\n",
       "      <td>2800701.000</td>\n",
       "      <td>7579079.000</td>\n",
       "      <td>NaN</td>\n",
       "    </tr>\n",
       "    <tr>\n",
       "      <th>4</th>\n",
       "      <td>Afghanistan</td>\n",
       "      <td>2004</td>\n",
       "      <td>24726689</td>\n",
       "      <td>5151803.000</td>\n",
       "      <td>3079126.000</td>\n",
       "      <td>8438287.000</td>\n",
       "      <td>NaN</td>\n",
       "    </tr>\n",
       "  </tbody>\n",
       "</table>\n",
       "</div>"
      ],
      "text/plain": [
       "  dw_country_name  dw_year   pop_tot  water_rural_basic_mio  \\\n",
       "0     Afghanistan     2000  20779957            3385010.000   \n",
       "1     Afghanistan     2001  21606992            3527880.000   \n",
       "2     Afghanistan     2002  22600774            4032490.000   \n",
       "3     Afghanistan     2003  23680871            4581251.000   \n",
       "4     Afghanistan     2004  24726689            5151803.000   \n",
       "\n",
       "   water_urban_basic_mio  total_basic_mio  water_total_safe_mio  \n",
       "0            2195403.000      5770989.000                   NaN  \n",
       "1            2300245.000      6006152.000                   NaN  \n",
       "2            2539692.000      6757803.000                   NaN  \n",
       "3            2800701.000      7579079.000                   NaN  \n",
       "4            3079126.000      8438287.000                   NaN  "
      ]
     },
     "execution_count": 135,
     "metadata": {},
     "output_type": "execute_result"
    }
   ],
   "source": [
    "# rename columns\n",
    "BasicAndSafelyManagedDrinkingWaterServices_final.rename(columns={'p_country_name': 'dw_country_name', 'p_year':'dw_year'}, inplace=True)\n",
    "BasicAndSafelyManagedDrinkingWaterServices_final.head()"
   ]
  },
  {
   "cell_type": "code",
   "execution_count": 136,
   "id": "ffba585f",
   "metadata": {
    "tags": []
   },
   "outputs": [
    {
     "data": {
      "text/html": [
       "<div>\n",
       "<style scoped>\n",
       "    .dataframe tbody tr th:only-of-type {\n",
       "        vertical-align: middle;\n",
       "    }\n",
       "\n",
       "    .dataframe tbody tr th {\n",
       "        vertical-align: top;\n",
       "    }\n",
       "\n",
       "    .dataframe thead th {\n",
       "        text-align: right;\n",
       "    }\n",
       "</style>\n",
       "<table border=\"1\" class=\"dataframe\">\n",
       "  <thead>\n",
       "    <tr style=\"text-align: right;\">\n",
       "      <th></th>\n",
       "      <th>dw_country_name</th>\n",
       "      <th>dw_year</th>\n",
       "      <th>water_rural_basic_%</th>\n",
       "      <th>total_basic_%</th>\n",
       "      <th>water_urban_basic_%</th>\n",
       "      <th>water_total_safe_%</th>\n",
       "      <th>female_population</th>\n",
       "      <th>male_population</th>\n",
       "      <th>rural_population</th>\n",
       "      <th>urban_population</th>\n",
       "      <th>pop_tot</th>\n",
       "      <th>water_rural_basic_mio</th>\n",
       "      <th>water_urban_basic_mio</th>\n",
       "      <th>total_basic_mio</th>\n",
       "      <th>water_total_safe_mio</th>\n",
       "    </tr>\n",
       "  </thead>\n",
       "  <tbody>\n",
       "    <tr>\n",
       "      <th>0</th>\n",
       "      <td>Afghanistan</td>\n",
       "      <td>2000</td>\n",
       "      <td>21.619</td>\n",
       "      <td>27.772</td>\n",
       "      <td>49.487</td>\n",
       "      <td>NaN</td>\n",
       "      <td>10090449</td>\n",
       "      <td>10689508</td>\n",
       "      <td>15657474</td>\n",
       "      <td>4436282</td>\n",
       "      <td>20779957</td>\n",
       "      <td>3385010.000</td>\n",
       "      <td>2195403.000</td>\n",
       "      <td>5770989.000</td>\n",
       "      <td>NaN</td>\n",
       "    </tr>\n",
       "    <tr>\n",
       "      <th>1</th>\n",
       "      <td>Afghanistan</td>\n",
       "      <td>2001</td>\n",
       "      <td>21.619</td>\n",
       "      <td>27.797</td>\n",
       "      <td>49.487</td>\n",
       "      <td>NaN</td>\n",
       "      <td>10489238</td>\n",
       "      <td>11117754</td>\n",
       "      <td>16318324</td>\n",
       "      <td>4648139</td>\n",
       "      <td>21606992</td>\n",
       "      <td>3527880.000</td>\n",
       "      <td>2300245.000</td>\n",
       "      <td>6006152.000</td>\n",
       "      <td>NaN</td>\n",
       "    </tr>\n",
       "    <tr>\n",
       "      <th>2</th>\n",
       "      <td>Afghanistan</td>\n",
       "      <td>2002</td>\n",
       "      <td>23.600</td>\n",
       "      <td>29.901</td>\n",
       "      <td>51.904</td>\n",
       "      <td>NaN</td>\n",
       "      <td>10958668</td>\n",
       "      <td>11642106</td>\n",
       "      <td>17086910</td>\n",
       "      <td>4893013</td>\n",
       "      <td>22600774</td>\n",
       "      <td>4032490.000</td>\n",
       "      <td>2539692.000</td>\n",
       "      <td>6757803.000</td>\n",
       "      <td>NaN</td>\n",
       "    </tr>\n",
       "    <tr>\n",
       "      <th>3</th>\n",
       "      <td>Afghanistan</td>\n",
       "      <td>2003</td>\n",
       "      <td>25.581</td>\n",
       "      <td>32.005</td>\n",
       "      <td>54.321</td>\n",
       "      <td>NaN</td>\n",
       "      <td>11466237</td>\n",
       "      <td>12214634</td>\n",
       "      <td>17909063</td>\n",
       "      <td>5155788</td>\n",
       "      <td>23680871</td>\n",
       "      <td>4581251.000</td>\n",
       "      <td>2800701.000</td>\n",
       "      <td>7579079.000</td>\n",
       "      <td>NaN</td>\n",
       "    </tr>\n",
       "    <tr>\n",
       "      <th>4</th>\n",
       "      <td>Afghanistan</td>\n",
       "      <td>2004</td>\n",
       "      <td>27.561</td>\n",
       "      <td>34.126</td>\n",
       "      <td>56.739</td>\n",
       "      <td>NaN</td>\n",
       "      <td>11962963</td>\n",
       "      <td>12763726</td>\n",
       "      <td>18692107</td>\n",
       "      <td>5426872</td>\n",
       "      <td>24726689</td>\n",
       "      <td>5151803.000</td>\n",
       "      <td>3079126.000</td>\n",
       "      <td>8438287.000</td>\n",
       "      <td>NaN</td>\n",
       "    </tr>\n",
       "  </tbody>\n",
       "</table>\n",
       "</div>"
      ],
      "text/plain": [
       "  dw_country_name  dw_year  water_rural_basic_%  total_basic_%  \\\n",
       "0     Afghanistan     2000               21.619         27.772   \n",
       "1     Afghanistan     2001               21.619         27.797   \n",
       "2     Afghanistan     2002               23.600         29.901   \n",
       "3     Afghanistan     2003               25.581         32.005   \n",
       "4     Afghanistan     2004               27.561         34.126   \n",
       "\n",
       "   water_urban_basic_%  water_total_safe_%  female_population  \\\n",
       "0               49.487                 NaN           10090449   \n",
       "1               49.487                 NaN           10489238   \n",
       "2               51.904                 NaN           10958668   \n",
       "3               54.321                 NaN           11466237   \n",
       "4               56.739                 NaN           11962963   \n",
       "\n",
       "   male_population  rural_population  urban_population   pop_tot  \\\n",
       "0         10689508          15657474           4436282  20779957   \n",
       "1         11117754          16318324           4648139  21606992   \n",
       "2         11642106          17086910           4893013  22600774   \n",
       "3         12214634          17909063           5155788  23680871   \n",
       "4         12763726          18692107           5426872  24726689   \n",
       "\n",
       "   water_rural_basic_mio  water_urban_basic_mio  total_basic_mio  \\\n",
       "0            3385010.000            2195403.000      5770989.000   \n",
       "1            3527880.000            2300245.000      6006152.000   \n",
       "2            4032490.000            2539692.000      6757803.000   \n",
       "3            4581251.000            2800701.000      7579079.000   \n",
       "4            5151803.000            3079126.000      8438287.000   \n",
       "\n",
       "   water_total_safe_mio  \n",
       "0                   NaN  \n",
       "1                   NaN  \n",
       "2                   NaN  \n",
       "3                   NaN  \n",
       "4                   NaN  "
      ]
     },
     "execution_count": 136,
     "metadata": {},
     "output_type": "execute_result"
    }
   ],
   "source": [
    "# rename columns\n",
    "BasicAndSafelyManagedDrinkingWaterServices_final_2.rename(columns={'p_country_name': 'dw_country_name', 'p_year':'dw_year'}, inplace=True)\n",
    "BasicAndSafelyManagedDrinkingWaterServices_final_2.head()"
   ]
  },
  {
   "cell_type": "code",
   "execution_count": 137,
   "id": "07a95c48",
   "metadata": {
    "tags": []
   },
   "outputs": [],
   "source": [
    "# export df to csv file\n",
    "BasicAndSafelyManagedDrinkingWaterServices_final_2.to_csv(\"RESULTATS/BasicAndSafelyManagedDrinkingWaterServices_final_2.csv\", index=False,encoding='utf-8-sig')\n",
    "BasicAndSafelyManagedDrinkingWaterServices_final.to_csv(\"RESULTATS/BasicAndSafelyManagedDrinkingWaterServices_final.csv\", index=False,encoding='utf-8-sig')"
   ]
  },
  {
   "cell_type": "markdown",
   "id": "15a4612c",
   "metadata": {},
   "source": [
    "## 5 - MortalityRateAttributedToWater"
   ]
  },
  {
   "cell_type": "code",
   "execution_count": 100,
   "id": "4c47bd24",
   "metadata": {
    "tags": []
   },
   "outputs": [
    {
     "data": {
      "text/html": [
       "<div>\n",
       "<style scoped>\n",
       "    .dataframe tbody tr th:only-of-type {\n",
       "        vertical-align: middle;\n",
       "    }\n",
       "\n",
       "    .dataframe tbody tr th {\n",
       "        vertical-align: top;\n",
       "    }\n",
       "\n",
       "    .dataframe thead th {\n",
       "        text-align: right;\n",
       "    }\n",
       "</style>\n",
       "<table border=\"1\" class=\"dataframe\">\n",
       "  <thead>\n",
       "    <tr style=\"text-align: right;\">\n",
       "      <th></th>\n",
       "      <th>Year</th>\n",
       "      <th>Mortality rate attributed to exposure to unsafe WASH services</th>\n",
       "      <th>WASH deaths</th>\n",
       "    </tr>\n",
       "  </thead>\n",
       "  <tbody>\n",
       "    <tr>\n",
       "      <th>count</th>\n",
       "      <td>549.000</td>\n",
       "      <td>549.000</td>\n",
       "      <td>183.000</td>\n",
       "    </tr>\n",
       "    <tr>\n",
       "      <th>mean</th>\n",
       "      <td>2016.000</td>\n",
       "      <td>12.494</td>\n",
       "      <td>4756.098</td>\n",
       "    </tr>\n",
       "    <tr>\n",
       "      <th>std</th>\n",
       "      <td>0.000</td>\n",
       "      <td>20.831</td>\n",
       "      <td>21280.125</td>\n",
       "    </tr>\n",
       "    <tr>\n",
       "      <th>min</th>\n",
       "      <td>2016.000</td>\n",
       "      <td>0.004</td>\n",
       "      <td>0.082</td>\n",
       "    </tr>\n",
       "    <tr>\n",
       "      <th>25%</th>\n",
       "      <td>2016.000</td>\n",
       "      <td>0.193</td>\n",
       "      <td>11.163</td>\n",
       "    </tr>\n",
       "    <tr>\n",
       "      <th>50%</th>\n",
       "      <td>2016.000</td>\n",
       "      <td>1.289</td>\n",
       "      <td>130.983</td>\n",
       "    </tr>\n",
       "    <tr>\n",
       "      <th>75%</th>\n",
       "      <td>2016.000</td>\n",
       "      <td>18.055</td>\n",
       "      <td>1950.434</td>\n",
       "    </tr>\n",
       "    <tr>\n",
       "      <th>max</th>\n",
       "      <td>2016.000</td>\n",
       "      <td>107.048</td>\n",
       "      <td>246087.900</td>\n",
       "    </tr>\n",
       "  </tbody>\n",
       "</table>\n",
       "</div>"
      ],
      "text/plain": [
       "          Year  Mortality rate attributed to exposure to unsafe WASH services  \\\n",
       "count  549.000                                                        549.000   \n",
       "mean  2016.000                                                         12.494   \n",
       "std      0.000                                                         20.831   \n",
       "min   2016.000                                                          0.004   \n",
       "25%   2016.000                                                          0.193   \n",
       "50%   2016.000                                                          1.289   \n",
       "75%   2016.000                                                         18.055   \n",
       "max   2016.000                                                        107.048   \n",
       "\n",
       "       WASH deaths  \n",
       "count      183.000  \n",
       "mean      4756.098  \n",
       "std      21280.125  \n",
       "min          0.082  \n",
       "25%         11.163  \n",
       "50%        130.983  \n",
       "75%       1950.434  \n",
       "max     246087.900  "
      ]
     },
     "execution_count": 100,
     "metadata": {},
     "output_type": "execute_result"
    }
   ],
   "source": [
    "# import file - source : \n",
    "MortalityRateAttributedToWater = pd.read_csv('RESSOURCES/MortalityRateAttributedToWater.csv',sep=\",\")\n",
    "MortalityRateAttributedToWater.describe()"
   ]
  },
  {
   "cell_type": "code",
   "execution_count": 101,
   "id": "c70f8673",
   "metadata": {
    "tags": []
   },
   "outputs": [
    {
     "data": {
      "text/plain": [
       "<Axes: >"
      ]
     },
     "execution_count": 101,
     "metadata": {},
     "output_type": "execute_result"
    },
    {
     "data": {
      "image/png": "[encoded data removed]",
      "text/plain": [
       "<Figure size 2500x1000 with 2 Axes>"
      ]
     },
     "metadata": {},
     "output_type": "display_data"
    }
   ],
   "source": [
    "msno.matrix(MortalityRateAttributedToWater)"
   ]
  },
  {
   "cell_type": "code",
   "execution_count": 102,
   "id": "3e6f4fd1",
   "metadata": {
    "tags": []
   },
   "outputs": [
    {
     "name": "stdout",
     "output_type": "stream",
     "text": [
      "There are  366 null values in the table.\n"
     ]
    }
   ],
   "source": [
    "# count number of null values in countries dataframe\n",
    "nulls_wm = MortalityRateAttributedToWater.isna().sum().sum()\n",
    "if nulls_wm == 0:\n",
    "    print(\"There are no null values in the table.\")\n",
    "else:\n",
    "    print (\"There are \", nulls_wm, \"null values in the table.\")"
   ]
  },
  {
   "cell_type": "code",
   "execution_count": 103,
   "id": "c118e96b",
   "metadata": {
    "tags": []
   },
   "outputs": [
    {
     "data": {
      "text/html": [
       "<div>\n",
       "<style scoped>\n",
       "    .dataframe tbody tr th:only-of-type {\n",
       "        vertical-align: middle;\n",
       "    }\n",
       "\n",
       "    .dataframe tbody tr th {\n",
       "        vertical-align: top;\n",
       "    }\n",
       "\n",
       "    .dataframe thead th {\n",
       "        text-align: right;\n",
       "    }\n",
       "</style>\n",
       "<table border=\"1\" class=\"dataframe\">\n",
       "  <thead>\n",
       "    <tr style=\"text-align: right;\">\n",
       "      <th>Granularity</th>\n",
       "      <th>Country</th>\n",
       "      <th>Year</th>\n",
       "      <th>Female</th>\n",
       "      <th>Male</th>\n",
       "      <th>Total</th>\n",
       "    </tr>\n",
       "  </thead>\n",
       "  <tbody>\n",
       "    <tr>\n",
       "      <th>0</th>\n",
       "      <td>Afghanistan</td>\n",
       "      <td>2016</td>\n",
       "      <td>15.312</td>\n",
       "      <td>12.613</td>\n",
       "      <td>13.921</td>\n",
       "    </tr>\n",
       "    <tr>\n",
       "      <th>1</th>\n",
       "      <td>Albania</td>\n",
       "      <td>2016</td>\n",
       "      <td>0.126</td>\n",
       "      <td>0.206</td>\n",
       "      <td>0.166</td>\n",
       "    </tr>\n",
       "    <tr>\n",
       "      <th>2</th>\n",
       "      <td>Algeria</td>\n",
       "      <td>2016</td>\n",
       "      <td>2.199</td>\n",
       "      <td>1.728</td>\n",
       "      <td>1.867</td>\n",
       "    </tr>\n",
       "    <tr>\n",
       "      <th>3</th>\n",
       "      <td>Angola</td>\n",
       "      <td>2016</td>\n",
       "      <td>45.150</td>\n",
       "      <td>52.625</td>\n",
       "      <td>48.815</td>\n",
       "    </tr>\n",
       "    <tr>\n",
       "      <th>4</th>\n",
       "      <td>Antigua and Barbuda</td>\n",
       "      <td>2016</td>\n",
       "      <td>0.104</td>\n",
       "      <td>0.125</td>\n",
       "      <td>0.114</td>\n",
       "    </tr>\n",
       "  </tbody>\n",
       "</table>\n",
       "</div>"
      ],
      "text/plain": [
       "Granularity              Country  Year  Female   Male  Total\n",
       "0                    Afghanistan  2016  15.312 12.613 13.921\n",
       "1                        Albania  2016   0.126  0.206  0.166\n",
       "2                        Algeria  2016   2.199  1.728  1.867\n",
       "3                         Angola  2016  45.150 52.625 48.815\n",
       "4            Antigua and Barbuda  2016   0.104  0.125  0.114"
      ]
     },
     "execution_count": 103,
     "metadata": {},
     "output_type": "execute_result"
    }
   ],
   "source": [
    "# un-pivot data\n",
    "wm_trim_1 = MortalityRateAttributedToWater.pivot(index=['Country','Year'], columns='Granularity', values='Mortality rate attributed to exposure to unsafe WASH services').reset_index()\n",
    "wm_trim_1.head()"
   ]
  },
  {
   "cell_type": "code",
   "execution_count": 104,
   "id": "810dc8b9",
   "metadata": {
    "tags": []
   },
   "outputs": [
    {
     "data": {
      "text/html": [
       "<div>\n",
       "<style scoped>\n",
       "    .dataframe tbody tr th:only-of-type {\n",
       "        vertical-align: middle;\n",
       "    }\n",
       "\n",
       "    .dataframe tbody tr th {\n",
       "        vertical-align: top;\n",
       "    }\n",
       "\n",
       "    .dataframe thead th {\n",
       "        text-align: right;\n",
       "    }\n",
       "</style>\n",
       "<table border=\"1\" class=\"dataframe\">\n",
       "  <thead>\n",
       "    <tr style=\"text-align: right;\">\n",
       "      <th></th>\n",
       "      <th>Year</th>\n",
       "      <th>Country</th>\n",
       "      <th>WASH deaths</th>\n",
       "    </tr>\n",
       "  </thead>\n",
       "  <tbody>\n",
       "    <tr>\n",
       "      <th>2</th>\n",
       "      <td>2016</td>\n",
       "      <td>Afghanistan</td>\n",
       "      <td>4824.353</td>\n",
       "    </tr>\n",
       "    <tr>\n",
       "      <th>5</th>\n",
       "      <td>2016</td>\n",
       "      <td>Albania</td>\n",
       "      <td>4.870</td>\n",
       "    </tr>\n",
       "    <tr>\n",
       "      <th>8</th>\n",
       "      <td>2016</td>\n",
       "      <td>Algeria</td>\n",
       "      <td>758.210</td>\n",
       "    </tr>\n",
       "    <tr>\n",
       "      <th>11</th>\n",
       "      <td>2016</td>\n",
       "      <td>Angola</td>\n",
       "      <td>14065.200</td>\n",
       "    </tr>\n",
       "    <tr>\n",
       "      <th>14</th>\n",
       "      <td>2016</td>\n",
       "      <td>Antigua and Barbuda</td>\n",
       "      <td>0.115</td>\n",
       "    </tr>\n",
       "  </tbody>\n",
       "</table>\n",
       "</div>"
      ],
      "text/plain": [
       "    Year              Country  WASH deaths\n",
       "2   2016          Afghanistan     4824.353\n",
       "5   2016              Albania        4.870\n",
       "8   2016              Algeria      758.210\n",
       "11  2016               Angola    14065.200\n",
       "14  2016  Antigua and Barbuda        0.115"
      ]
     },
     "execution_count": 104,
     "metadata": {},
     "output_type": "execute_result"
    }
   ],
   "source": [
    "# filter data\n",
    "wm_trim_2 = MortalityRateAttributedToWater.loc[MortalityRateAttributedToWater['Granularity'] == 'Total'][['Year', 'Country', 'WASH deaths']]\n",
    "wm_trim_2.head()"
   ]
  },
  {
   "cell_type": "code",
   "execution_count": 105,
   "id": "54c4da82",
   "metadata": {
    "tags": []
   },
   "outputs": [
    {
     "data": {
      "text/html": [
       "<div>\n",
       "<style scoped>\n",
       "    .dataframe tbody tr th:only-of-type {\n",
       "        vertical-align: middle;\n",
       "    }\n",
       "\n",
       "    .dataframe tbody tr th {\n",
       "        vertical-align: top;\n",
       "    }\n",
       "\n",
       "    .dataframe thead th {\n",
       "        text-align: right;\n",
       "    }\n",
       "</style>\n",
       "<table border=\"1\" class=\"dataframe\">\n",
       "  <thead>\n",
       "    <tr style=\"text-align: right;\">\n",
       "      <th></th>\n",
       "      <th>Country</th>\n",
       "      <th>Year</th>\n",
       "      <th>Female_per100k</th>\n",
       "      <th>Male_per100k</th>\n",
       "      <th>Total_per100k</th>\n",
       "      <th>WASH deaths</th>\n",
       "    </tr>\n",
       "  </thead>\n",
       "  <tbody>\n",
       "    <tr>\n",
       "      <th>0</th>\n",
       "      <td>Afghanistan</td>\n",
       "      <td>2016</td>\n",
       "      <td>15.312</td>\n",
       "      <td>12.613</td>\n",
       "      <td>13.921</td>\n",
       "      <td>4824.353</td>\n",
       "    </tr>\n",
       "    <tr>\n",
       "      <th>1</th>\n",
       "      <td>Albania</td>\n",
       "      <td>2016</td>\n",
       "      <td>0.126</td>\n",
       "      <td>0.206</td>\n",
       "      <td>0.166</td>\n",
       "      <td>4.870</td>\n",
       "    </tr>\n",
       "    <tr>\n",
       "      <th>2</th>\n",
       "      <td>Algeria</td>\n",
       "      <td>2016</td>\n",
       "      <td>2.199</td>\n",
       "      <td>1.728</td>\n",
       "      <td>1.867</td>\n",
       "      <td>758.210</td>\n",
       "    </tr>\n",
       "    <tr>\n",
       "      <th>3</th>\n",
       "      <td>Angola</td>\n",
       "      <td>2016</td>\n",
       "      <td>45.150</td>\n",
       "      <td>52.625</td>\n",
       "      <td>48.815</td>\n",
       "      <td>14065.200</td>\n",
       "    </tr>\n",
       "    <tr>\n",
       "      <th>4</th>\n",
       "      <td>Antigua and Barbuda</td>\n",
       "      <td>2016</td>\n",
       "      <td>0.104</td>\n",
       "      <td>0.125</td>\n",
       "      <td>0.114</td>\n",
       "      <td>0.115</td>\n",
       "    </tr>\n",
       "  </tbody>\n",
       "</table>\n",
       "</div>"
      ],
      "text/plain": [
       "               Country  Year  Female_per100k  Male_per100k  Total_per100k  \\\n",
       "0          Afghanistan  2016          15.312        12.613         13.921   \n",
       "1              Albania  2016           0.126         0.206          0.166   \n",
       "2              Algeria  2016           2.199         1.728          1.867   \n",
       "3               Angola  2016          45.150        52.625         48.815   \n",
       "4  Antigua and Barbuda  2016           0.104         0.125          0.114   \n",
       "\n",
       "   WASH deaths  \n",
       "0     4824.353  \n",
       "1        4.870  \n",
       "2      758.210  \n",
       "3    14065.200  \n",
       "4        0.115  "
      ]
     },
     "execution_count": 105,
     "metadata": {},
     "output_type": "execute_result"
    }
   ],
   "source": [
    "# merge data\n",
    "wm_trim_final = pd.merge(wm_trim_1, wm_trim_2, on=['Country','Year'])\n",
    "wm_trim_final.rename(columns={'Female': 'Female_per100k', 'Male':'Male_per100k', 'Total':'Total_per100k'}, inplace=True)\n",
    "wm_trim_final.head()"
   ]
  },
  {
   "cell_type": "code",
   "execution_count": 107,
   "id": "f71529f5",
   "metadata": {
    "tags": []
   },
   "outputs": [
    {
     "data": {
      "text/html": [
       "<div>\n",
       "<style scoped>\n",
       "    .dataframe tbody tr th:only-of-type {\n",
       "        vertical-align: middle;\n",
       "    }\n",
       "\n",
       "    .dataframe tbody tr th {\n",
       "        vertical-align: top;\n",
       "    }\n",
       "\n",
       "    .dataframe thead th {\n",
       "        text-align: right;\n",
       "    }\n",
       "</style>\n",
       "<table border=\"1\" class=\"dataframe\">\n",
       "  <thead>\n",
       "    <tr style=\"text-align: right;\">\n",
       "      <th>Granularity</th>\n",
       "      <th>Country</th>\n",
       "      <th>Year</th>\n",
       "      <th>female_population</th>\n",
       "      <th>male_population</th>\n",
       "      <th>rural_population</th>\n",
       "      <th>urban_population</th>\n",
       "    </tr>\n",
       "  </thead>\n",
       "  <tbody>\n",
       "    <tr>\n",
       "      <th>16</th>\n",
       "      <td>Afghanistan</td>\n",
       "      <td>2016</td>\n",
       "      <td>17196034</td>\n",
       "      <td>18186994</td>\n",
       "      <td>25985093</td>\n",
       "      <td>8670939</td>\n",
       "    </tr>\n",
       "    <tr>\n",
       "      <th>35</th>\n",
       "      <td>Albania</td>\n",
       "      <td>2016</td>\n",
       "      <td>1415879</td>\n",
       "      <td>1470548</td>\n",
       "      <td>1216737</td>\n",
       "      <td>1709611</td>\n",
       "    </tr>\n",
       "    <tr>\n",
       "      <th>54</th>\n",
       "      <td>Algeria</td>\n",
       "      <td>2016</td>\n",
       "      <td>20069497</td>\n",
       "      <td>20481901</td>\n",
       "      <td>11589537</td>\n",
       "      <td>29016515</td>\n",
       "    </tr>\n",
       "    <tr>\n",
       "      <th>111</th>\n",
       "      <td>Angola</td>\n",
       "      <td>2016</td>\n",
       "      <td>14576127</td>\n",
       "      <td>14266355</td>\n",
       "      <td>10329860</td>\n",
       "      <td>18483603</td>\n",
       "    </tr>\n",
       "    <tr>\n",
       "      <th>149</th>\n",
       "      <td>Antigua and Barbuda</td>\n",
       "      <td>2016</td>\n",
       "      <td>49002</td>\n",
       "      <td>45518</td>\n",
       "      <td>75878</td>\n",
       "      <td>25085</td>\n",
       "    </tr>\n",
       "  </tbody>\n",
       "</table>\n",
       "</div>"
      ],
      "text/plain": [
       "Granularity              Country  Year  female_population  male_population  \\\n",
       "16                   Afghanistan  2016           17196034         18186994   \n",
       "35                       Albania  2016            1415879          1470548   \n",
       "54                       Algeria  2016           20069497         20481901   \n",
       "111                       Angola  2016           14576127         14266355   \n",
       "149          Antigua and Barbuda  2016              49002            45518   \n",
       "\n",
       "Granularity  rural_population  urban_population  \n",
       "16                   25985093           8670939  \n",
       "35                    1216737           1709611  \n",
       "54                   11589537          29016515  \n",
       "111                  10329860          18483603  \n",
       "149                     75878             25085  "
      ]
     },
     "execution_count": 107,
     "metadata": {},
     "output_type": "execute_result"
    }
   ],
   "source": [
    "# filter data and rename columns\n",
    "Population_2016 = Population_final.loc[Population_final['p_year'] == 2016].copy()\n",
    "Population_2016.rename(columns={'p_country_name': 'Country', 'p_year':'Year'}, inplace=True)\n",
    "Population_2016.head()"
   ]
  },
  {
   "cell_type": "code",
   "execution_count": 109,
   "id": "89f27356",
   "metadata": {
    "tags": []
   },
   "outputs": [
    {
     "data": {
      "text/html": [
       "<div>\n",
       "<style scoped>\n",
       "    .dataframe tbody tr th:only-of-type {\n",
       "        vertical-align: middle;\n",
       "    }\n",
       "\n",
       "    .dataframe tbody tr th {\n",
       "        vertical-align: top;\n",
       "    }\n",
       "\n",
       "    .dataframe thead th {\n",
       "        text-align: right;\n",
       "    }\n",
       "</style>\n",
       "<table border=\"1\" class=\"dataframe\">\n",
       "  <thead>\n",
       "    <tr style=\"text-align: right;\">\n",
       "      <th></th>\n",
       "      <th>Country</th>\n",
       "      <th>Year</th>\n",
       "      <th>Female_per100k</th>\n",
       "      <th>Male_per100k</th>\n",
       "      <th>Total_per100k</th>\n",
       "      <th>WASH deaths</th>\n",
       "      <th>female_population</th>\n",
       "      <th>male_population</th>\n",
       "      <th>rural_population</th>\n",
       "      <th>urban_population</th>\n",
       "    </tr>\n",
       "  </thead>\n",
       "  <tbody>\n",
       "    <tr>\n",
       "      <th>0</th>\n",
       "      <td>Afghanistan</td>\n",
       "      <td>2016</td>\n",
       "      <td>15.312</td>\n",
       "      <td>12.613</td>\n",
       "      <td>13.921</td>\n",
       "      <td>4824.353</td>\n",
       "      <td>17196034</td>\n",
       "      <td>18186994</td>\n",
       "      <td>25985093</td>\n",
       "      <td>8670939</td>\n",
       "    </tr>\n",
       "    <tr>\n",
       "      <th>1</th>\n",
       "      <td>Albania</td>\n",
       "      <td>2016</td>\n",
       "      <td>0.126</td>\n",
       "      <td>0.206</td>\n",
       "      <td>0.166</td>\n",
       "      <td>4.870</td>\n",
       "      <td>1415879</td>\n",
       "      <td>1470548</td>\n",
       "      <td>1216737</td>\n",
       "      <td>1709611</td>\n",
       "    </tr>\n",
       "    <tr>\n",
       "      <th>2</th>\n",
       "      <td>Algeria</td>\n",
       "      <td>2016</td>\n",
       "      <td>2.199</td>\n",
       "      <td>1.728</td>\n",
       "      <td>1.867</td>\n",
       "      <td>758.210</td>\n",
       "      <td>20069497</td>\n",
       "      <td>20481901</td>\n",
       "      <td>11589537</td>\n",
       "      <td>29016515</td>\n",
       "    </tr>\n",
       "    <tr>\n",
       "      <th>3</th>\n",
       "      <td>Angola</td>\n",
       "      <td>2016</td>\n",
       "      <td>45.150</td>\n",
       "      <td>52.625</td>\n",
       "      <td>48.815</td>\n",
       "      <td>14065.200</td>\n",
       "      <td>14576127</td>\n",
       "      <td>14266355</td>\n",
       "      <td>10329860</td>\n",
       "      <td>18483603</td>\n",
       "    </tr>\n",
       "    <tr>\n",
       "      <th>4</th>\n",
       "      <td>Antigua and Barbuda</td>\n",
       "      <td>2016</td>\n",
       "      <td>0.104</td>\n",
       "      <td>0.125</td>\n",
       "      <td>0.114</td>\n",
       "      <td>0.115</td>\n",
       "      <td>49002</td>\n",
       "      <td>45518</td>\n",
       "      <td>75878</td>\n",
       "      <td>25085</td>\n",
       "    </tr>\n",
       "  </tbody>\n",
       "</table>\n",
       "</div>"
      ],
      "text/plain": [
       "               Country  Year  Female_per100k  Male_per100k  Total_per100k  \\\n",
       "0          Afghanistan  2016          15.312        12.613         13.921   \n",
       "1              Albania  2016           0.126         0.206          0.166   \n",
       "2              Algeria  2016           2.199         1.728          1.867   \n",
       "3               Angola  2016          45.150        52.625         48.815   \n",
       "4  Antigua and Barbuda  2016           0.104         0.125          0.114   \n",
       "\n",
       "   WASH deaths  female_population  male_population  rural_population  \\\n",
       "0     4824.353           17196034         18186994          25985093   \n",
       "1        4.870            1415879          1470548           1216737   \n",
       "2      758.210           20069497         20481901          11589537   \n",
       "3    14065.200           14576127         14266355          10329860   \n",
       "4        0.115              49002            45518             75878   \n",
       "\n",
       "   urban_population  \n",
       "0           8670939  \n",
       "1           1709611  \n",
       "2          29016515  \n",
       "3          18483603  \n",
       "4             25085  "
      ]
     },
     "execution_count": 109,
     "metadata": {},
     "output_type": "execute_result"
    }
   ],
   "source": [
    "# merge data\n",
    "wm_trim_final_2 = pd.merge(wm_trim_final, Population_2016, on=['Country','Year'])\n",
    "wm_trim_final_2.head()"
   ]
  },
  {
   "cell_type": "code",
   "execution_count": 110,
   "id": "0ea21740",
   "metadata": {
    "tags": []
   },
   "outputs": [
    {
     "data": {
      "text/html": [
       "<div>\n",
       "<style scoped>\n",
       "    .dataframe tbody tr th:only-of-type {\n",
       "        vertical-align: middle;\n",
       "    }\n",
       "\n",
       "    .dataframe tbody tr th {\n",
       "        vertical-align: top;\n",
       "    }\n",
       "\n",
       "    .dataframe thead th {\n",
       "        text-align: right;\n",
       "    }\n",
       "</style>\n",
       "<table border=\"1\" class=\"dataframe\">\n",
       "  <thead>\n",
       "    <tr style=\"text-align: right;\">\n",
       "      <th></th>\n",
       "      <th>Country</th>\n",
       "      <th>Year</th>\n",
       "      <th>Female_per100k</th>\n",
       "      <th>Male_per100k</th>\n",
       "      <th>Total_per100k</th>\n",
       "      <th>WASH deaths</th>\n",
       "      <th>female_population</th>\n",
       "      <th>male_population</th>\n",
       "      <th>rural_population</th>\n",
       "      <th>urban_population</th>\n",
       "      <th>female_wash_deaths</th>\n",
       "      <th>male_wash_deaths</th>\n",
       "      <th>total_deaths</th>\n",
       "    </tr>\n",
       "  </thead>\n",
       "  <tbody>\n",
       "    <tr>\n",
       "      <th>0</th>\n",
       "      <td>Afghanistan</td>\n",
       "      <td>2016</td>\n",
       "      <td>15.312</td>\n",
       "      <td>12.613</td>\n",
       "      <td>13.921</td>\n",
       "      <td>4824.353</td>\n",
       "      <td>17196034</td>\n",
       "      <td>18186994</td>\n",
       "      <td>25985093</td>\n",
       "      <td>8670939</td>\n",
       "      <td>2633.045</td>\n",
       "      <td>2293.920</td>\n",
       "      <td>4926.965</td>\n",
       "    </tr>\n",
       "    <tr>\n",
       "      <th>1</th>\n",
       "      <td>Albania</td>\n",
       "      <td>2016</td>\n",
       "      <td>0.126</td>\n",
       "      <td>0.206</td>\n",
       "      <td>0.166</td>\n",
       "      <td>4.870</td>\n",
       "      <td>1415879</td>\n",
       "      <td>1470548</td>\n",
       "      <td>1216737</td>\n",
       "      <td>1709611</td>\n",
       "      <td>1.777</td>\n",
       "      <td>3.037</td>\n",
       "      <td>4.814</td>\n",
       "    </tr>\n",
       "    <tr>\n",
       "      <th>2</th>\n",
       "      <td>Algeria</td>\n",
       "      <td>2016</td>\n",
       "      <td>2.199</td>\n",
       "      <td>1.728</td>\n",
       "      <td>1.867</td>\n",
       "      <td>758.210</td>\n",
       "      <td>20069497</td>\n",
       "      <td>20481901</td>\n",
       "      <td>11589537</td>\n",
       "      <td>29016515</td>\n",
       "      <td>441.308</td>\n",
       "      <td>354.003</td>\n",
       "      <td>795.311</td>\n",
       "    </tr>\n",
       "    <tr>\n",
       "      <th>3</th>\n",
       "      <td>Angola</td>\n",
       "      <td>2016</td>\n",
       "      <td>45.150</td>\n",
       "      <td>52.625</td>\n",
       "      <td>48.815</td>\n",
       "      <td>14065.200</td>\n",
       "      <td>14576127</td>\n",
       "      <td>14266355</td>\n",
       "      <td>10329860</td>\n",
       "      <td>18483603</td>\n",
       "      <td>6581.156</td>\n",
       "      <td>7507.678</td>\n",
       "      <td>14088.834</td>\n",
       "    </tr>\n",
       "    <tr>\n",
       "      <th>4</th>\n",
       "      <td>Antigua and Barbuda</td>\n",
       "      <td>2016</td>\n",
       "      <td>0.104</td>\n",
       "      <td>0.125</td>\n",
       "      <td>0.114</td>\n",
       "      <td>0.115</td>\n",
       "      <td>49002</td>\n",
       "      <td>45518</td>\n",
       "      <td>75878</td>\n",
       "      <td>25085</td>\n",
       "      <td>0.051</td>\n",
       "      <td>0.057</td>\n",
       "      <td>0.108</td>\n",
       "    </tr>\n",
       "  </tbody>\n",
       "</table>\n",
       "</div>"
      ],
      "text/plain": [
       "               Country  Year  Female_per100k  Male_per100k  Total_per100k  \\\n",
       "0          Afghanistan  2016          15.312        12.613         13.921   \n",
       "1              Albania  2016           0.126         0.206          0.166   \n",
       "2              Algeria  2016           2.199         1.728          1.867   \n",
       "3               Angola  2016          45.150        52.625         48.815   \n",
       "4  Antigua and Barbuda  2016           0.104         0.125          0.114   \n",
       "\n",
       "   WASH deaths  female_population  male_population  rural_population  \\\n",
       "0     4824.353           17196034         18186994          25985093   \n",
       "1        4.870            1415879          1470548           1216737   \n",
       "2      758.210           20069497         20481901          11589537   \n",
       "3    14065.200           14576127         14266355          10329860   \n",
       "4        0.115              49002            45518             75878   \n",
       "\n",
       "   urban_population  female_wash_deaths  male_wash_deaths  total_deaths  \n",
       "0           8670939            2633.045          2293.920      4926.965  \n",
       "1           1709611               1.777             3.037         4.814  \n",
       "2          29016515             441.308           354.003       795.311  \n",
       "3          18483603            6581.156          7507.678     14088.834  \n",
       "4             25085               0.051             0.057         0.108  "
      ]
     },
     "execution_count": 110,
     "metadata": {},
     "output_type": "execute_result"
    }
   ],
   "source": [
    "# add calculations\n",
    "wm_trim_final_2['female_wash_deaths'] = wm_trim_final_2['Female_per100k'] * wm_trim_final_2['female_population'] / 100000\n",
    "wm_trim_final_2['male_wash_deaths'] = wm_trim_final_2['Male_per100k'] * wm_trim_final_2['male_population'] / 100000\n",
    "wm_trim_final_2['total_deaths'] = wm_trim_final_2['female_wash_deaths'] + wm_trim_final_2['male_wash_deaths']\n",
    "wm_trim_final_2.head()"
   ]
  },
  {
   "cell_type": "code",
   "execution_count": 114,
   "id": "9cb11a44",
   "metadata": {
    "tags": []
   },
   "outputs": [
    {
     "data": {
      "text/html": [
       "<div>\n",
       "<style scoped>\n",
       "    .dataframe tbody tr th:only-of-type {\n",
       "        vertical-align: middle;\n",
       "    }\n",
       "\n",
       "    .dataframe tbody tr th {\n",
       "        vertical-align: top;\n",
       "    }\n",
       "\n",
       "    .dataframe thead th {\n",
       "        text-align: right;\n",
       "    }\n",
       "</style>\n",
       "<table border=\"1\" class=\"dataframe\">\n",
       "  <thead>\n",
       "    <tr style=\"text-align: right;\">\n",
       "      <th></th>\n",
       "      <th>wm_country_name</th>\n",
       "      <th>total_deaths</th>\n",
       "      <th>female_deaths</th>\n",
       "      <th>male_deaths</th>\n",
       "      <th>Total_per100k</th>\n",
       "      <th>Male_per100k</th>\n",
       "      <th>Female_per100k</th>\n",
       "    </tr>\n",
       "  </thead>\n",
       "  <tbody>\n",
       "    <tr>\n",
       "      <th>0</th>\n",
       "      <td>Afghanistan</td>\n",
       "      <td>4824.353</td>\n",
       "      <td>2633.045</td>\n",
       "      <td>2293.920</td>\n",
       "      <td>13.921</td>\n",
       "      <td>12.613</td>\n",
       "      <td>15.312</td>\n",
       "    </tr>\n",
       "    <tr>\n",
       "      <th>1</th>\n",
       "      <td>Albania</td>\n",
       "      <td>4.870</td>\n",
       "      <td>1.777</td>\n",
       "      <td>3.037</td>\n",
       "      <td>0.166</td>\n",
       "      <td>0.206</td>\n",
       "      <td>0.126</td>\n",
       "    </tr>\n",
       "    <tr>\n",
       "      <th>2</th>\n",
       "      <td>Algeria</td>\n",
       "      <td>758.210</td>\n",
       "      <td>441.308</td>\n",
       "      <td>354.003</td>\n",
       "      <td>1.867</td>\n",
       "      <td>1.728</td>\n",
       "      <td>2.199</td>\n",
       "    </tr>\n",
       "    <tr>\n",
       "      <th>3</th>\n",
       "      <td>Angola</td>\n",
       "      <td>14065.200</td>\n",
       "      <td>6581.156</td>\n",
       "      <td>7507.678</td>\n",
       "      <td>48.815</td>\n",
       "      <td>52.625</td>\n",
       "      <td>45.150</td>\n",
       "    </tr>\n",
       "    <tr>\n",
       "      <th>4</th>\n",
       "      <td>Antigua and Barbuda</td>\n",
       "      <td>0.115</td>\n",
       "      <td>0.051</td>\n",
       "      <td>0.057</td>\n",
       "      <td>0.114</td>\n",
       "      <td>0.125</td>\n",
       "      <td>0.104</td>\n",
       "    </tr>\n",
       "  </tbody>\n",
       "</table>\n",
       "</div>"
      ],
      "text/plain": [
       "       wm_country_name  total_deaths  female_deaths  male_deaths  \\\n",
       "0          Afghanistan      4824.353       2633.045     2293.920   \n",
       "1              Albania         4.870          1.777        3.037   \n",
       "2              Algeria       758.210        441.308      354.003   \n",
       "3               Angola     14065.200       6581.156     7507.678   \n",
       "4  Antigua and Barbuda         0.115          0.051        0.057   \n",
       "\n",
       "   Total_per100k  Male_per100k  Female_per100k  \n",
       "0         13.921        12.613          15.312  \n",
       "1          0.166         0.206           0.126  \n",
       "2          1.867         1.728           2.199  \n",
       "3         48.815        52.625          45.150  \n",
       "4          0.114         0.125           0.104  "
      ]
     },
     "execution_count": 114,
     "metadata": {},
     "output_type": "execute_result"
    }
   ],
   "source": [
    "# filter data and rename columns\n",
    "MortalityRateAttributedToWater_2016_final = wm_trim_final_2[['Country', 'WASH deaths' ,'female_wash_deaths','male_wash_deaths', \"Total_per100k\",\"Male_per100k\",\"Female_per100k\"]].copy()\n",
    "MortalityRateAttributedToWater_2016_final.rename(columns={'Country': 'wm_country_name', 'WASH deaths':'total_deaths', 'female_wash_deaths':'female_deaths','male_wash_deaths':'male_deaths'}, inplace=True)\n",
    "MortalityRateAttributedToWater_2016_final.head()"
   ]
  },
  {
   "cell_type": "code",
   "execution_count": 115,
   "id": "b5b000e9",
   "metadata": {
    "tags": []
   },
   "outputs": [],
   "source": [
    "# export df to csv file\n",
    "wm_trim_final_2.to_csv(\"RESULTATS/MortalityRateAttributedToWater_2016_final_2.csv\", index=False,encoding='utf-8-sig')\n",
    "MortalityRateAttributedToWater_2016_final.to_csv(\"RESULTATS/MortalityRateAttributedToWater_2016_final.csv\", index=False,encoding='utf-8-sig')"
   ]
  },
  {
   "cell_type": "markdown",
   "id": "bf3ecc75",
   "metadata": {},
   "source": [
    "## 6 - Merge data tables"
   ]
  },
  {
   "cell_type": "markdown",
   "id": "73fa81f2",
   "metadata": {},
   "source": [
    "#### 6.1 - Table fao_data"
   ]
  },
  {
   "cell_type": "code",
   "execution_count": 138,
   "id": "20b64465",
   "metadata": {
    "tags": []
   },
   "outputs": [
    {
     "data": {
      "text/html": [
       "<div>\n",
       "<style scoped>\n",
       "    .dataframe tbody tr th:only-of-type {\n",
       "        vertical-align: middle;\n",
       "    }\n",
       "\n",
       "    .dataframe tbody tr th {\n",
       "        vertical-align: top;\n",
       "    }\n",
       "\n",
       "    .dataframe thead th {\n",
       "        text-align: right;\n",
       "    }\n",
       "</style>\n",
       "<table border=\"1\" class=\"dataframe\">\n",
       "  <thead>\n",
       "    <tr style=\"text-align: right;\">\n",
       "      <th></th>\n",
       "      <th>p_country_name</th>\n",
       "      <th>p_year</th>\n",
       "      <th>political_stability</th>\n",
       "    </tr>\n",
       "  </thead>\n",
       "  <tbody>\n",
       "    <tr>\n",
       "      <th>0</th>\n",
       "      <td>Afghanistan</td>\n",
       "      <td>2000</td>\n",
       "      <td>-2.440</td>\n",
       "    </tr>\n",
       "    <tr>\n",
       "      <th>1</th>\n",
       "      <td>Afghanistan</td>\n",
       "      <td>2002</td>\n",
       "      <td>-2.040</td>\n",
       "    </tr>\n",
       "    <tr>\n",
       "      <th>2</th>\n",
       "      <td>Afghanistan</td>\n",
       "      <td>2003</td>\n",
       "      <td>-2.200</td>\n",
       "    </tr>\n",
       "    <tr>\n",
       "      <th>3</th>\n",
       "      <td>Afghanistan</td>\n",
       "      <td>2004</td>\n",
       "      <td>-2.300</td>\n",
       "    </tr>\n",
       "    <tr>\n",
       "      <th>4</th>\n",
       "      <td>Afghanistan</td>\n",
       "      <td>2005</td>\n",
       "      <td>-2.070</td>\n",
       "    </tr>\n",
       "  </tbody>\n",
       "</table>\n",
       "</div>"
      ],
      "text/plain": [
       "  p_country_name  p_year  political_stability\n",
       "0    Afghanistan    2000               -2.440\n",
       "1    Afghanistan    2002               -2.040\n",
       "2    Afghanistan    2003               -2.200\n",
       "3    Afghanistan    2004               -2.300\n",
       "4    Afghanistan    2005               -2.070"
      ]
     },
     "execution_count": 138,
     "metadata": {},
     "output_type": "execute_result"
    }
   ],
   "source": [
    "# rename columns\n",
    "PoliticalStability_final.rename(columns={'ps_country_name': 'p_country_name', 'ps_year':'p_year'}, inplace=True)\n",
    "PoliticalStability_final.head()"
   ]
  },
  {
   "cell_type": "code",
   "execution_count": 147,
   "id": "f3305daa-7ed5-4394-aed1-2c20d9c1a4b9",
   "metadata": {
    "tags": []
   },
   "outputs": [
    {
     "name": "stdout",
     "output_type": "stream",
     "text": [
      "Index(['wm_country_name', 'total_deaths', 'female_deaths', 'male_deaths',\n",
      "       'Total_per100k', 'Male_per100k', 'Female_per100k'],\n",
      "      dtype='object')\n"
     ]
    }
   ],
   "source": [
    "print(MortalityRateAttributedToWater_2016_final.columns)"
   ]
  },
  {
   "cell_type": "code",
   "execution_count": 150,
   "id": "981ace00-1f34-41c4-8d57-a7e83ab8ca1e",
   "metadata": {
    "tags": []
   },
   "outputs": [
    {
     "name": "stdout",
     "output_type": "stream",
     "text": [
      "Index(['Country', 'Year', 'Female_per100k', 'Male_per100k', 'Total_per100k',\n",
      "       'WASH deaths', 'female_population', 'male_population',\n",
      "       'rural_population', 'urban_population', 'female_wash_deaths',\n",
      "       'male_wash_deaths', 'total_deaths'],\n",
      "      dtype='object')\n"
     ]
    }
   ],
   "source": [
    "print(wm_trim_final_2.columns)"
   ]
  },
  {
   "cell_type": "code",
   "execution_count": 143,
   "id": "aefcc494-7d78-478b-b7e3-bbfa050a9d3a",
   "metadata": {
    "tags": []
   },
   "outputs": [
    {
     "data": {
      "text/html": [
       "<div>\n",
       "<style scoped>\n",
       "    .dataframe tbody tr th:only-of-type {\n",
       "        vertical-align: middle;\n",
       "    }\n",
       "\n",
       "    .dataframe tbody tr th {\n",
       "        vertical-align: top;\n",
       "    }\n",
       "\n",
       "    .dataframe thead th {\n",
       "        text-align: right;\n",
       "    }\n",
       "</style>\n",
       "<table border=\"1\" class=\"dataframe\">\n",
       "  <thead>\n",
       "    <tr style=\"text-align: right;\">\n",
       "      <th></th>\n",
       "      <th>fao_country_name</th>\n",
       "      <th>fao_year</th>\n",
       "      <th>water_rural_basic_%</th>\n",
       "      <th>total_basic_%</th>\n",
       "      <th>water_urban_basic_%</th>\n",
       "      <th>water_total_safe_%</th>\n",
       "      <th>female_population</th>\n",
       "      <th>male_population</th>\n",
       "      <th>rural_population</th>\n",
       "      <th>urban_population</th>\n",
       "      <th>pop_tot</th>\n",
       "      <th>political_stability</th>\n",
       "      <th>water_rural_basic</th>\n",
       "      <th>water_urban_basic</th>\n",
       "      <th>total_basic_mio</th>\n",
       "      <th>water_total_safe</th>\n",
       "    </tr>\n",
       "  </thead>\n",
       "  <tbody>\n",
       "    <tr>\n",
       "      <th>0</th>\n",
       "      <td>Afghanistan</td>\n",
       "      <td>2000</td>\n",
       "      <td>21.619</td>\n",
       "      <td>27.772</td>\n",
       "      <td>49.487</td>\n",
       "      <td>0.000</td>\n",
       "      <td>10090449</td>\n",
       "      <td>10689508</td>\n",
       "      <td>15657474</td>\n",
       "      <td>4436282</td>\n",
       "      <td>20779957</td>\n",
       "      <td>-2.440</td>\n",
       "      <td>3385010.000</td>\n",
       "      <td>2195403.000</td>\n",
       "      <td>5770989.000</td>\n",
       "      <td>0.000</td>\n",
       "    </tr>\n",
       "    <tr>\n",
       "      <th>1</th>\n",
       "      <td>Afghanistan</td>\n",
       "      <td>2001</td>\n",
       "      <td>21.619</td>\n",
       "      <td>27.797</td>\n",
       "      <td>49.487</td>\n",
       "      <td>0.000</td>\n",
       "      <td>10489238</td>\n",
       "      <td>11117754</td>\n",
       "      <td>16318324</td>\n",
       "      <td>4648139</td>\n",
       "      <td>21606992</td>\n",
       "      <td>0.000</td>\n",
       "      <td>3527880.000</td>\n",
       "      <td>2300245.000</td>\n",
       "      <td>6006152.000</td>\n",
       "      <td>0.000</td>\n",
       "    </tr>\n",
       "    <tr>\n",
       "      <th>2</th>\n",
       "      <td>Afghanistan</td>\n",
       "      <td>2002</td>\n",
       "      <td>23.600</td>\n",
       "      <td>29.901</td>\n",
       "      <td>51.904</td>\n",
       "      <td>0.000</td>\n",
       "      <td>10958668</td>\n",
       "      <td>11642106</td>\n",
       "      <td>17086910</td>\n",
       "      <td>4893013</td>\n",
       "      <td>22600774</td>\n",
       "      <td>-2.040</td>\n",
       "      <td>4032490.000</td>\n",
       "      <td>2539692.000</td>\n",
       "      <td>6757803.000</td>\n",
       "      <td>0.000</td>\n",
       "    </tr>\n",
       "    <tr>\n",
       "      <th>3</th>\n",
       "      <td>Afghanistan</td>\n",
       "      <td>2003</td>\n",
       "      <td>25.581</td>\n",
       "      <td>32.005</td>\n",
       "      <td>54.321</td>\n",
       "      <td>0.000</td>\n",
       "      <td>11466237</td>\n",
       "      <td>12214634</td>\n",
       "      <td>17909063</td>\n",
       "      <td>5155788</td>\n",
       "      <td>23680871</td>\n",
       "      <td>-2.200</td>\n",
       "      <td>4581251.000</td>\n",
       "      <td>2800701.000</td>\n",
       "      <td>7579079.000</td>\n",
       "      <td>0.000</td>\n",
       "    </tr>\n",
       "    <tr>\n",
       "      <th>4</th>\n",
       "      <td>Afghanistan</td>\n",
       "      <td>2004</td>\n",
       "      <td>27.561</td>\n",
       "      <td>34.126</td>\n",
       "      <td>56.739</td>\n",
       "      <td>0.000</td>\n",
       "      <td>11962963</td>\n",
       "      <td>12763726</td>\n",
       "      <td>18692107</td>\n",
       "      <td>5426872</td>\n",
       "      <td>24726689</td>\n",
       "      <td>-2.300</td>\n",
       "      <td>5151803.000</td>\n",
       "      <td>3079126.000</td>\n",
       "      <td>8438287.000</td>\n",
       "      <td>0.000</td>\n",
       "    </tr>\n",
       "  </tbody>\n",
       "</table>\n",
       "</div>"
      ],
      "text/plain": [
       "  fao_country_name  fao_year  water_rural_basic_%  total_basic_%  \\\n",
       "0      Afghanistan      2000               21.619         27.772   \n",
       "1      Afghanistan      2001               21.619         27.797   \n",
       "2      Afghanistan      2002               23.600         29.901   \n",
       "3      Afghanistan      2003               25.581         32.005   \n",
       "4      Afghanistan      2004               27.561         34.126   \n",
       "\n",
       "   water_urban_basic_%  water_total_safe_%  female_population  \\\n",
       "0               49.487               0.000           10090449   \n",
       "1               49.487               0.000           10489238   \n",
       "2               51.904               0.000           10958668   \n",
       "3               54.321               0.000           11466237   \n",
       "4               56.739               0.000           11962963   \n",
       "\n",
       "   male_population  rural_population  urban_population   pop_tot  \\\n",
       "0         10689508          15657474           4436282  20779957   \n",
       "1         11117754          16318324           4648139  21606992   \n",
       "2         11642106          17086910           4893013  22600774   \n",
       "3         12214634          17909063           5155788  23680871   \n",
       "4         12763726          18692107           5426872  24726689   \n",
       "\n",
       "   political_stability  water_rural_basic  water_urban_basic  total_basic_mio  \\\n",
       "0               -2.440        3385010.000        2195403.000      5770989.000   \n",
       "1                0.000        3527880.000        2300245.000      6006152.000   \n",
       "2               -2.040        4032490.000        2539692.000      6757803.000   \n",
       "3               -2.200        4581251.000        2800701.000      7579079.000   \n",
       "4               -2.300        5151803.000        3079126.000      8438287.000   \n",
       "\n",
       "   water_total_safe  \n",
       "0             0.000  \n",
       "1             0.000  \n",
       "2             0.000  \n",
       "3             0.000  \n",
       "4             0.000  "
      ]
     },
     "execution_count": 143,
     "metadata": {},
     "output_type": "execute_result"
    }
   ],
   "source": [
    "# Fusionner les DataFrames en utilisant les bonnes colonnes\n",
    "fao_data = pd.merge(\n",
    "    BasicAndSafelyManagedDrinkingWaterServices_final_2, \n",
    "    PoliticalStability_final, \n",
    "    how='left', \n",
    "    left_on=['dw_country_name', 'dw_year'], \n",
    "    right_on=['p_country_name', 'p_year']\n",
    ")[['dw_country_name', 'dw_year', 'water_rural_basic_%', 'total_basic_%',\n",
    "       'water_urban_basic_%', 'water_total_safe_%', 'female_population',\n",
    "       'male_population', 'rural_population', 'urban_population', 'pop_tot', 'political_stability', 'water_rural_basic_mio', 'water_urban_basic_mio', 'total_basic_mio',\n",
    "       'water_total_safe_mio']]\n",
    "\n",
    "# Renommer les colonnes pour harmoniser les noms\n",
    "fao_data.rename(columns={\n",
    "    'dw_country_name': 'fao_country_name', \n",
    "    'dw_year': 'fao_year', \n",
    "    'water_rural_basic_mio': 'water_rural_basic', \n",
    "    'water_urban_basic_mio': 'water_urban_basic', \n",
    "    'water_total_safe_mio': 'water_total_safe'\n",
    "}, inplace=True)\n",
    "\n",
    "# Remplacer les valeurs manquantes par des zéros\n",
    "fao_data.fillna(0, inplace=True)\n",
    "\n",
    "# Afficher les premières lignes du DataFrame résultant\n",
    "fao_data.head()\n"
   ]
  },
  {
   "cell_type": "code",
   "execution_count": 144,
   "id": "495cbe02",
   "metadata": {
    "tags": []
   },
   "outputs": [],
   "source": [
    "# export df to csv file\n",
    "fao_data.to_csv(\"RESULTATS/fao_data.csv\", index=False,encoding='utf-8-sig')"
   ]
  },
  {
   "cell_type": "markdown",
   "id": "04c8007c",
   "metadata": {},
   "source": [
    "#### 6.2 - Table wash_mortality_2016"
   ]
  },
  {
   "cell_type": "code",
   "execution_count": 84,
   "id": "1f779e66",
   "metadata": {},
   "outputs": [
    {
     "data": {
      "text/html": [
       "<div>\n",
       "<style scoped>\n",
       "    .dataframe tbody tr th:only-of-type {\n",
       "        vertical-align: middle;\n",
       "    }\n",
       "\n",
       "    .dataframe tbody tr th {\n",
       "        vertical-align: top;\n",
       "    }\n",
       "\n",
       "    .dataframe thead th {\n",
       "        text-align: right;\n",
       "    }\n",
       "</style>\n",
       "<table border=\"1\" class=\"dataframe\">\n",
       "  <thead>\n",
       "    <tr style=\"text-align: right;\">\n",
       "      <th></th>\n",
       "      <th>wm_country_name</th>\n",
       "      <th>female_deaths</th>\n",
       "      <th>male_deaths</th>\n",
       "    </tr>\n",
       "  </thead>\n",
       "  <tbody>\n",
       "    <tr>\n",
       "      <th>0</th>\n",
       "      <td>Afghanistan</td>\n",
       "      <td>2633.045</td>\n",
       "      <td>2293.920</td>\n",
       "    </tr>\n",
       "    <tr>\n",
       "      <th>1</th>\n",
       "      <td>Albania</td>\n",
       "      <td>1.777</td>\n",
       "      <td>3.037</td>\n",
       "    </tr>\n",
       "    <tr>\n",
       "      <th>2</th>\n",
       "      <td>Algeria</td>\n",
       "      <td>441.308</td>\n",
       "      <td>354.003</td>\n",
       "    </tr>\n",
       "    <tr>\n",
       "      <th>3</th>\n",
       "      <td>Angola</td>\n",
       "      <td>6581.156</td>\n",
       "      <td>7507.678</td>\n",
       "    </tr>\n",
       "    <tr>\n",
       "      <th>4</th>\n",
       "      <td>Antigua and Barbuda</td>\n",
       "      <td>0.051</td>\n",
       "      <td>0.057</td>\n",
       "    </tr>\n",
       "  </tbody>\n",
       "</table>\n",
       "</div>"
      ],
      "text/plain": [
       "       wm_country_name  female_deaths  male_deaths\n",
       "0          Afghanistan       2633.045     2293.920\n",
       "1              Albania          1.777        3.037\n",
       "2              Algeria        441.308      354.003\n",
       "3               Angola       6581.156     7507.678\n",
       "4  Antigua and Barbuda          0.051        0.057"
      ]
     },
     "execution_count": 84,
     "metadata": {},
     "output_type": "execute_result"
    }
   ],
   "source": [
    "wash_mortality_2016 = wash_deaths_2016_final[['wm_country_name', 'female_deaths', 'male_deaths']]\n",
    "wash_mortality_2016.head()"
   ]
  },
  {
   "cell_type": "code",
   "execution_count": 85,
   "id": "28745f1f",
   "metadata": {},
   "outputs": [],
   "source": [
    "# export df to csv file\n",
    "wash_mortality_2016.to_csv('C:/ProgramData/MySQL/MySQL Server 8.0/Uploads/DWFA_wash_mortality_2016.csv', index=False, encoding='latin_1')"
   ]
  },
  {
   "cell_type": "code",
   "execution_count": 86,
   "id": "41d4f46b",
   "metadata": {},
   "outputs": [],
   "source": [
    "# load csv file into db\n",
    "load_wash_mortality_2016 = \"LOAD DATA INFILE 'C:/ProgramData/MySQL/MySQL Server 8.0/Uploads/DWFA_wash_mortality_2016.csv' INTO TABLE wash_mortality_2016 CHARACTER SET latin1 FIELDS TERMINATED BY ',' LINES TERMINATED BY '\\r\\n' IGNORE 1 ROWS\"\n",
    "cursor.execute(\"SET FOREIGN_KEY_CHECKS=0\")\n",
    "cursor.execute(load_wash_mortality_2016)\n",
    "cursor.execute(\"SET FOREIGN_KEY_CHECKS=1\")"
   ]
  },
  {
   "cell_type": "code",
   "execution_count": 88,
   "id": "a390fc6c",
   "metadata": {},
   "outputs": [],
   "source": [
    "# replace missing values with zeros\n",
    "update_fao_data_1 = \"UPDATE fao_data SET water_total_safe=NULL WHERE water_total_safe=0\"\n",
    "update_fao_data_2 = \"UPDATE fao_data SET political_stability=NULL WHERE political_stability=0\"\n",
    "update_fao_data_3 = \"UPDATE fao_data SET water_rural_basic=NULL WHERE water_rural_basic=0\"\n",
    "update_fao_data_4 = \"UPDATE fao_data SET water_urban_basic=NULL WHERE water_urban_basic=0\"\n",
    "cursor.execute(update_fao_data_1)\n",
    "cursor.execute(update_fao_data_2)\n",
    "cursor.execute(update_fao_data_3)\n",
    "cursor.execute(update_fao_data_4)"
   ]
  },
  {
   "cell_type": "code",
   "execution_count": 89,
   "id": "c21b4ff6",
   "metadata": {},
   "outputs": [],
   "source": [
    "# close connection\n",
    "connection.close()"
   ]
  },
  {
   "cell_type": "code",
   "execution_count": 152,
   "id": "c03752f8-33d1-43a8-969b-bf6d69e074ae",
   "metadata": {
    "tags": []
   },
   "outputs": [
    {
     "name": "stdout",
     "output_type": "stream",
     "text": [
      "There are no null values in the table.\n"
     ]
    }
   ],
   "source": [
    "# count number of null values in countries dataframe\n",
    "nulls_fao_data = MortalityRateAttributedToWater_2016_final.isna().sum().sum()\n",
    "if nulls_fao_data == 0:\n",
    "    print(\"There are no null values in the table.\")\n",
    "else:\n",
    "    print (\"There are \", nulls_fao_data, \"null values in the table.\")"
   ]
  },
  {
   "cell_type": "code",
   "execution_count": 153,
   "id": "f7ec344e-30c3-496f-a766-2f95bf78f0f3",
   "metadata": {
    "tags": []
   },
   "outputs": [
    {
     "data": {
      "text/plain": [
       "(182, 7)"
      ]
     },
     "execution_count": 153,
     "metadata": {},
     "output_type": "execute_result"
    }
   ],
   "source": [
    "MortalityRateAttributedToWater_2016_final.shape"
   ]
  },
  {
   "cell_type": "code",
   "execution_count": 154,
   "id": "5492b5ed-0905-4949-9a09-d5bfc18a33f4",
   "metadata": {
    "tags": []
   },
   "outputs": [
    {
     "data": {
      "text/plain": [
       "(182, 13)"
      ]
     },
     "execution_count": 154,
     "metadata": {},
     "output_type": "execute_result"
    }
   ],
   "source": [
    "wm_trim_final_2.shape"
   ]
  }
 ],
 "metadata": {
  "kernelspec": {
   "display_name": "ENV Python 3.9",
   "language": "python",
   "name": "kernel_python_mohamad"
  },
  "language_info": {
   "codemirror_mode": {
    "name": "ipython",
    "version": 3
   },
   "file_extension": ".py",
   "mimetype": "text/x-python",
   "name": "python",
   "nbconvert_exporter": "python",
   "pygments_lexer": "ipython3",
   "version": "3.9.18"
  }
 },
 "nbformat": 4,
 "nbformat_minor": 5
}
